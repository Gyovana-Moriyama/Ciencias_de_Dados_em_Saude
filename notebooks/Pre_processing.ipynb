{
 "cells": [
  {
   "cell_type": "code",
   "execution_count": 1,
   "metadata": {
    "id": "jaDVxUjl87aK"
   },
   "outputs": [],
   "source": [
    "import numpy as np\n",
    "import pandas as pd\n",
    "# plots\n",
    "import seaborn as sns; sns.set_theme()\n",
    "sns.set(palette='colorblind')\n",
    "import matplotlib.pyplot as plt"
   ]
  },
  {
   "cell_type": "markdown",
   "metadata": {
    "id": "kpxf8XcaOlVE"
   },
   "source": [
    "Alexandre Dias Negretti\t233609\t\n",
    "Daniel Godoy Marques\t166213\t\n",
    "Gyovana Mayara Moriyama\t216190\t"
   ]
  },
  {
   "cell_type": "markdown",
   "metadata": {
    "id": "KNUj7l_MgJVA"
   },
   "source": [
    "# Reading data"
   ]
  },
  {
   "cell_type": "code",
   "execution_count": 2,
   "metadata": {
    "id": "84l7IOiD93DV"
   },
   "outputs": [],
   "source": [
    "#Method to read the three main tables (patients, conditions e encounters) and organizations table\n",
    "def get_patient(scenario: str, tables_dict: dict, path: str):\n",
    "  \n",
    "  df = pd.DataFrame()\n",
    "  common = ['START', 'STOP', 'CODE', 'DESCRIPTION']\n",
    "  \n",
    "  for table in tables_dict:\n",
    "    tmp = pd.read_csv(path + scenario + '/csv/' + table + '.csv', sep=',')\n",
    "    tmp = tmp[tables_dict[table]].copy()\n",
    "\n",
    "    for col in common:\n",
    "        if col in tables_dict[table]:\n",
    "          tmp.rename(columns={col: col+'_'+ table.upper()}, inplace=True)\n",
    "\n",
    "    if table == 'patients':\n",
    "      df = tmp\n",
    "      df.rename(columns={'Id': 'PATIENT'}, inplace=True)\n",
    "\n",
    "    elif table == 'encounters':\n",
    "      df = df.merge(tmp, left_on='PATIENT', right_on='PATIENT')\n",
    "      df.rename(columns={'Id': 'ENCOUNTER'}, inplace=True)\n",
    "\n",
    "    elif table == 'organizations':\n",
    "      df = df.merge(tmp, left_on='ORGANIZATION', right_on='Id', how='left')\n",
    "      df.drop(['Id', 'ORGANIZATION'], axis=1, inplace=True)\n",
    "      df.rename(columns={'NAME': 'ORGANIZATION'}, inplace=True)\n",
    "    \n",
    "    elif table == 'conditions':\n",
    "      df = df.merge(tmp, left_on=['PATIENT', 'ENCOUNTER'], right_on=['PATIENT', 'ENCOUNTER'])\n",
    "\n",
    "  df.reset_index(drop=True, inplace=True)\n",
    "  df.columns = df.columns.str.lower()\n",
    "  return df"
   ]
  },
  {
   "cell_type": "code",
   "execution_count": 3,
   "metadata": {
    "id": "wMWGK6yjY1Vr"
   },
   "outputs": [],
   "source": [
    "#Method to read each table\n",
    "def get_table(scenario: str, table_name: str, columns: list, path: str):\n",
    "  common = ['START', 'STOP', 'CODE', 'DESCRIPTION']\n",
    "\n",
    "  df = pd.read_csv(path + scenario + '/csv/' + table_name + '.csv', sep=',')\n",
    "  df = df[columns].copy()\n",
    "\n",
    "  for col in common:\n",
    "      if col in columns:\n",
    "        df.rename(columns={col: col+'_'+ table_name.upper()}, inplace=True)\n",
    "  \n",
    "  df.reset_index(drop=True, inplace=True)\n",
    "  df.columns = df.columns.str.lower()\n",
    "  return df"
   ]
  },
  {
   "cell_type": "code",
   "execution_count": 4,
   "metadata": {
    "id": "DAqiDygcYO9x"
   },
   "outputs": [],
   "source": [
    "path = '../data/external/'"
   ]
  },
  {
   "cell_type": "code",
   "execution_count": 5,
   "metadata": {
    "id": "oMH30bIggWqk"
   },
   "outputs": [],
   "source": [
    "#Dictionary with the name of each table a columns that we will keep\n",
    "tables_dict= {  'patients': ['Id', 'BIRTHDATE', 'DEATHDATE', 'GENDER'],\n",
    "                'encounters': ['Id', 'START', 'STOP', 'PATIENT', 'ORGANIZATION', 'ENCOUNTERCLASS'],\n",
    "                'conditions': ['START', 'STOP', 'PATIENT', 'ENCOUNTER', 'CODE', 'DESCRIPTION'],\n",
    "                'organizations': ['Id', 'NAME'],\n",
    "              }"
   ]
  },
  {
   "cell_type": "code",
   "execution_count": 6,
   "metadata": {
    "colab": {
     "base_uri": "https://localhost:8080/",
     "height": 337
    },
    "id": "v3sQmoeg-BFm",
    "outputId": "91b5d8e6-926b-4c47-b0e3-c1c95fec1f97"
   },
   "outputs": [
    {
     "data": {
      "text/html": [
       "<div>\n",
       "<style scoped>\n",
       "    .dataframe tbody tr th:only-of-type {\n",
       "        vertical-align: middle;\n",
       "    }\n",
       "\n",
       "    .dataframe tbody tr th {\n",
       "        vertical-align: top;\n",
       "    }\n",
       "\n",
       "    .dataframe thead th {\n",
       "        text-align: right;\n",
       "    }\n",
       "</style>\n",
       "<table border=\"1\" class=\"dataframe\">\n",
       "  <thead>\n",
       "    <tr style=\"text-align: right;\">\n",
       "      <th></th>\n",
       "      <th>patient</th>\n",
       "      <th>birthdate</th>\n",
       "      <th>deathdate</th>\n",
       "      <th>gender</th>\n",
       "      <th>encounter</th>\n",
       "      <th>start_encounters</th>\n",
       "      <th>stop_encounters</th>\n",
       "      <th>encounterclass</th>\n",
       "      <th>start_conditions</th>\n",
       "      <th>stop_conditions</th>\n",
       "      <th>code_conditions</th>\n",
       "      <th>description_conditions</th>\n",
       "      <th>organization</th>\n",
       "    </tr>\n",
       "  </thead>\n",
       "  <tbody>\n",
       "    <tr>\n",
       "      <th>0</th>\n",
       "      <td>8bbc83cd-2747-55eb-5e42-4fecb71beb9a</td>\n",
       "      <td>2019-11-23</td>\n",
       "      <td>NaN</td>\n",
       "      <td>F</td>\n",
       "      <td>41d82b14-b6b9-6d7e-7f50-00e99a2ad0b3</td>\n",
       "      <td>2020-06-20T22:57:20Z</td>\n",
       "      <td>2020-06-20T23:12:20Z</td>\n",
       "      <td>outpatient</td>\n",
       "      <td>2020-06-20</td>\n",
       "      <td>2020-08-01</td>\n",
       "      <td>65363002</td>\n",
       "      <td>Otitis media</td>\n",
       "      <td>FALMOUTH HOSPITAL</td>\n",
       "    </tr>\n",
       "    <tr>\n",
       "      <th>1</th>\n",
       "      <td>8bbc83cd-2747-55eb-5e42-4fecb71beb9a</td>\n",
       "      <td>2019-11-23</td>\n",
       "      <td>NaN</td>\n",
       "      <td>F</td>\n",
       "      <td>6688cadf-eacc-e47f-65a5-e6738040caa4</td>\n",
       "      <td>2021-03-13T22:57:20Z</td>\n",
       "      <td>2021-03-14T02:46:20Z</td>\n",
       "      <td>emergency</td>\n",
       "      <td>2021-03-13</td>\n",
       "      <td>2021-03-13</td>\n",
       "      <td>241929008</td>\n",
       "      <td>Acute allergic reaction</td>\n",
       "      <td>FALMOUTH HOSPITAL</td>\n",
       "    </tr>\n",
       "    <tr>\n",
       "      <th>2</th>\n",
       "      <td>3a1f3c65-c794-5888-aced-8e6b72a1190b</td>\n",
       "      <td>2018-11-24</td>\n",
       "      <td>NaN</td>\n",
       "      <td>F</td>\n",
       "      <td>127dbf5f-366d-278d-3e08-413983e133b3</td>\n",
       "      <td>2019-06-22T12:48:28Z</td>\n",
       "      <td>2019-06-22T13:03:28Z</td>\n",
       "      <td>outpatient</td>\n",
       "      <td>2019-06-22</td>\n",
       "      <td>2019-08-03</td>\n",
       "      <td>65363002</td>\n",
       "      <td>Otitis media</td>\n",
       "      <td>LAWRENCE GENERAL HOSPITAL</td>\n",
       "    </tr>\n",
       "    <tr>\n",
       "      <th>3</th>\n",
       "      <td>3a1f3c65-c794-5888-aced-8e6b72a1190b</td>\n",
       "      <td>2018-11-24</td>\n",
       "      <td>NaN</td>\n",
       "      <td>F</td>\n",
       "      <td>fcee94a3-5f6a-3ce8-04bf-7ccaaffdd1d6</td>\n",
       "      <td>2019-12-01T12:48:28Z</td>\n",
       "      <td>2019-12-01T13:03:28Z</td>\n",
       "      <td>outpatient</td>\n",
       "      <td>2019-12-01</td>\n",
       "      <td>2020-02-01</td>\n",
       "      <td>65363002</td>\n",
       "      <td>Otitis media</td>\n",
       "      <td>LAWRENCE GENERAL HOSPITAL</td>\n",
       "    </tr>\n",
       "    <tr>\n",
       "      <th>4</th>\n",
       "      <td>3a1f3c65-c794-5888-aced-8e6b72a1190b</td>\n",
       "      <td>2018-11-24</td>\n",
       "      <td>NaN</td>\n",
       "      <td>F</td>\n",
       "      <td>1c0fc865-b38c-69ef-88fd-1c9a8ae52603</td>\n",
       "      <td>2020-05-20T02:48:28Z</td>\n",
       "      <td>2020-05-20T03:03:28Z</td>\n",
       "      <td>ambulatory</td>\n",
       "      <td>2020-05-19</td>\n",
       "      <td>2020-05-30</td>\n",
       "      <td>195662009</td>\n",
       "      <td>Acute viral pharyngitis (disorder)</td>\n",
       "      <td>LAWRENCE GENERAL HOSPITAL</td>\n",
       "    </tr>\n",
       "  </tbody>\n",
       "</table>\n",
       "</div>"
      ],
      "text/plain": [
       "                                patient   birthdate deathdate gender  \\\n",
       "0  8bbc83cd-2747-55eb-5e42-4fecb71beb9a  2019-11-23       NaN      F   \n",
       "1  8bbc83cd-2747-55eb-5e42-4fecb71beb9a  2019-11-23       NaN      F   \n",
       "2  3a1f3c65-c794-5888-aced-8e6b72a1190b  2018-11-24       NaN      F   \n",
       "3  3a1f3c65-c794-5888-aced-8e6b72a1190b  2018-11-24       NaN      F   \n",
       "4  3a1f3c65-c794-5888-aced-8e6b72a1190b  2018-11-24       NaN      F   \n",
       "\n",
       "                              encounter      start_encounters  \\\n",
       "0  41d82b14-b6b9-6d7e-7f50-00e99a2ad0b3  2020-06-20T22:57:20Z   \n",
       "1  6688cadf-eacc-e47f-65a5-e6738040caa4  2021-03-13T22:57:20Z   \n",
       "2  127dbf5f-366d-278d-3e08-413983e133b3  2019-06-22T12:48:28Z   \n",
       "3  fcee94a3-5f6a-3ce8-04bf-7ccaaffdd1d6  2019-12-01T12:48:28Z   \n",
       "4  1c0fc865-b38c-69ef-88fd-1c9a8ae52603  2020-05-20T02:48:28Z   \n",
       "\n",
       "        stop_encounters encounterclass start_conditions stop_conditions  \\\n",
       "0  2020-06-20T23:12:20Z     outpatient       2020-06-20      2020-08-01   \n",
       "1  2021-03-14T02:46:20Z      emergency       2021-03-13      2021-03-13   \n",
       "2  2019-06-22T13:03:28Z     outpatient       2019-06-22      2019-08-03   \n",
       "3  2019-12-01T13:03:28Z     outpatient       2019-12-01      2020-02-01   \n",
       "4  2020-05-20T03:03:28Z     ambulatory       2020-05-19      2020-05-30   \n",
       "\n",
       "   code_conditions              description_conditions  \\\n",
       "0         65363002                        Otitis media   \n",
       "1        241929008             Acute allergic reaction   \n",
       "2         65363002                        Otitis media   \n",
       "3         65363002                        Otitis media   \n",
       "4        195662009  Acute viral pharyngitis (disorder)   \n",
       "\n",
       "                organization  \n",
       "0          FALMOUTH HOSPITAL  \n",
       "1          FALMOUTH HOSPITAL  \n",
       "2  LAWRENCE GENERAL HOSPITAL  \n",
       "3  LAWRENCE GENERAL HOSPITAL  \n",
       "4  LAWRENCE GENERAL HOSPITAL  "
      ]
     },
     "execution_count": 6,
     "metadata": {},
     "output_type": "execute_result"
    }
   ],
   "source": [
    "df1 = get_patient('scenario04', tables_dict, path)\n",
    "df1.head(5)"
   ]
  },
  {
   "cell_type": "code",
   "execution_count": 7,
   "metadata": {
    "colab": {
     "base_uri": "https://localhost:8080/",
     "height": 337
    },
    "id": "WwGSzM5S_vH-",
    "outputId": "d249d6c0-faa3-44a7-e79e-27559a2422d1"
   },
   "outputs": [
    {
     "data": {
      "text/html": [
       "<div>\n",
       "<style scoped>\n",
       "    .dataframe tbody tr th:only-of-type {\n",
       "        vertical-align: middle;\n",
       "    }\n",
       "\n",
       "    .dataframe tbody tr th {\n",
       "        vertical-align: top;\n",
       "    }\n",
       "\n",
       "    .dataframe thead th {\n",
       "        text-align: right;\n",
       "    }\n",
       "</style>\n",
       "<table border=\"1\" class=\"dataframe\">\n",
       "  <thead>\n",
       "    <tr style=\"text-align: right;\">\n",
       "      <th></th>\n",
       "      <th>patient</th>\n",
       "      <th>birthdate</th>\n",
       "      <th>deathdate</th>\n",
       "      <th>gender</th>\n",
       "      <th>encounter</th>\n",
       "      <th>start_encounters</th>\n",
       "      <th>stop_encounters</th>\n",
       "      <th>encounterclass</th>\n",
       "      <th>start_conditions</th>\n",
       "      <th>stop_conditions</th>\n",
       "      <th>code_conditions</th>\n",
       "      <th>description_conditions</th>\n",
       "      <th>organization</th>\n",
       "    </tr>\n",
       "  </thead>\n",
       "  <tbody>\n",
       "    <tr>\n",
       "      <th>0</th>\n",
       "      <td>52cd9de8-20ea-3573-a6cb-892e7654b286</td>\n",
       "      <td>1984-09-29</td>\n",
       "      <td>NaN</td>\n",
       "      <td>M</td>\n",
       "      <td>d0bfb5c6-af89-1b6f-ddaa-71561216c3a6</td>\n",
       "      <td>2002-11-23T11:07:25Z</td>\n",
       "      <td>2002-11-23T11:22:25Z</td>\n",
       "      <td>wellness</td>\n",
       "      <td>2002-11-23</td>\n",
       "      <td>NaN</td>\n",
       "      <td>224299000</td>\n",
       "      <td>Received higher education (finding)</td>\n",
       "      <td>ELECTRODIAGNOSIS AND REHABILITATION ASSOCIATES...</td>\n",
       "    </tr>\n",
       "    <tr>\n",
       "      <th>1</th>\n",
       "      <td>52cd9de8-20ea-3573-a6cb-892e7654b286</td>\n",
       "      <td>1984-09-29</td>\n",
       "      <td>NaN</td>\n",
       "      <td>M</td>\n",
       "      <td>d0bfb5c6-af89-1b6f-ddaa-71561216c3a6</td>\n",
       "      <td>2002-11-23T11:07:25Z</td>\n",
       "      <td>2002-11-23T11:22:25Z</td>\n",
       "      <td>wellness</td>\n",
       "      <td>2002-11-23</td>\n",
       "      <td>2003-11-29</td>\n",
       "      <td>160904001</td>\n",
       "      <td>Part-time employment (finding)</td>\n",
       "      <td>ELECTRODIAGNOSIS AND REHABILITATION ASSOCIATES...</td>\n",
       "    </tr>\n",
       "    <tr>\n",
       "      <th>2</th>\n",
       "      <td>52cd9de8-20ea-3573-a6cb-892e7654b286</td>\n",
       "      <td>1984-09-29</td>\n",
       "      <td>NaN</td>\n",
       "      <td>M</td>\n",
       "      <td>d0bfb5c6-af89-1b6f-ddaa-71561216c3a6</td>\n",
       "      <td>2002-11-23T11:07:25Z</td>\n",
       "      <td>2002-11-23T11:22:25Z</td>\n",
       "      <td>wellness</td>\n",
       "      <td>2002-11-23</td>\n",
       "      <td>2021-12-18</td>\n",
       "      <td>422650009</td>\n",
       "      <td>Social isolation (finding)</td>\n",
       "      <td>ELECTRODIAGNOSIS AND REHABILITATION ASSOCIATES...</td>\n",
       "    </tr>\n",
       "    <tr>\n",
       "      <th>3</th>\n",
       "      <td>52cd9de8-20ea-3573-a6cb-892e7654b286</td>\n",
       "      <td>1984-09-29</td>\n",
       "      <td>NaN</td>\n",
       "      <td>M</td>\n",
       "      <td>d0bfb5c6-af89-1b6f-ddaa-71561216c3a6</td>\n",
       "      <td>2002-11-23T11:07:25Z</td>\n",
       "      <td>2002-11-23T11:22:25Z</td>\n",
       "      <td>wellness</td>\n",
       "      <td>2002-11-23</td>\n",
       "      <td>2006-12-02</td>\n",
       "      <td>73595000</td>\n",
       "      <td>Stress (finding)</td>\n",
       "      <td>ELECTRODIAGNOSIS AND REHABILITATION ASSOCIATES...</td>\n",
       "    </tr>\n",
       "    <tr>\n",
       "      <th>4</th>\n",
       "      <td>52cd9de8-20ea-3573-a6cb-892e7654b286</td>\n",
       "      <td>1984-09-29</td>\n",
       "      <td>NaN</td>\n",
       "      <td>M</td>\n",
       "      <td>3e771593-16b0-5993-e59f-895cb9323828</td>\n",
       "      <td>2009-12-05T11:07:25Z</td>\n",
       "      <td>2009-12-05T11:22:25Z</td>\n",
       "      <td>wellness</td>\n",
       "      <td>2009-12-05</td>\n",
       "      <td>2012-12-08</td>\n",
       "      <td>741062008</td>\n",
       "      <td>Not in labor force (finding)</td>\n",
       "      <td>ELECTRODIAGNOSIS AND REHABILITATION ASSOCIATES...</td>\n",
       "    </tr>\n",
       "  </tbody>\n",
       "</table>\n",
       "</div>"
      ],
      "text/plain": [
       "                                patient   birthdate deathdate gender  \\\n",
       "0  52cd9de8-20ea-3573-a6cb-892e7654b286  1984-09-29       NaN      M   \n",
       "1  52cd9de8-20ea-3573-a6cb-892e7654b286  1984-09-29       NaN      M   \n",
       "2  52cd9de8-20ea-3573-a6cb-892e7654b286  1984-09-29       NaN      M   \n",
       "3  52cd9de8-20ea-3573-a6cb-892e7654b286  1984-09-29       NaN      M   \n",
       "4  52cd9de8-20ea-3573-a6cb-892e7654b286  1984-09-29       NaN      M   \n",
       "\n",
       "                              encounter      start_encounters  \\\n",
       "0  d0bfb5c6-af89-1b6f-ddaa-71561216c3a6  2002-11-23T11:07:25Z   \n",
       "1  d0bfb5c6-af89-1b6f-ddaa-71561216c3a6  2002-11-23T11:07:25Z   \n",
       "2  d0bfb5c6-af89-1b6f-ddaa-71561216c3a6  2002-11-23T11:07:25Z   \n",
       "3  d0bfb5c6-af89-1b6f-ddaa-71561216c3a6  2002-11-23T11:07:25Z   \n",
       "4  3e771593-16b0-5993-e59f-895cb9323828  2009-12-05T11:07:25Z   \n",
       "\n",
       "        stop_encounters encounterclass start_conditions stop_conditions  \\\n",
       "0  2002-11-23T11:22:25Z       wellness       2002-11-23             NaN   \n",
       "1  2002-11-23T11:22:25Z       wellness       2002-11-23      2003-11-29   \n",
       "2  2002-11-23T11:22:25Z       wellness       2002-11-23      2021-12-18   \n",
       "3  2002-11-23T11:22:25Z       wellness       2002-11-23      2006-12-02   \n",
       "4  2009-12-05T11:22:25Z       wellness       2009-12-05      2012-12-08   \n",
       "\n",
       "   code_conditions               description_conditions  \\\n",
       "0        224299000  Received higher education (finding)   \n",
       "1        160904001       Part-time employment (finding)   \n",
       "2        422650009           Social isolation (finding)   \n",
       "3         73595000                     Stress (finding)   \n",
       "4        741062008         Not in labor force (finding)   \n",
       "\n",
       "                                        organization  \n",
       "0  ELECTRODIAGNOSIS AND REHABILITATION ASSOCIATES...  \n",
       "1  ELECTRODIAGNOSIS AND REHABILITATION ASSOCIATES...  \n",
       "2  ELECTRODIAGNOSIS AND REHABILITATION ASSOCIATES...  \n",
       "3  ELECTRODIAGNOSIS AND REHABILITATION ASSOCIATES...  \n",
       "4  ELECTRODIAGNOSIS AND REHABILITATION ASSOCIATES...  "
      ]
     },
     "execution_count": 7,
     "metadata": {},
     "output_type": "execute_result"
    }
   ],
   "source": [
    "df2 = get_patient('scenario03', tables_dict, path)\n",
    "df2.head(5)"
   ]
  },
  {
   "cell_type": "code",
   "execution_count": 8,
   "metadata": {
    "id": "YO16lh_JYqHH"
   },
   "outputs": [],
   "source": [
    "images1 = get_table('scenario04', 'imaging_studies', ['PATIENT', 'ENCOUNTER', 'MODALITY_CODE', 'Id'], path)\n",
    "images2 = get_table('scenario03', 'imaging_studies', ['PATIENT', 'ENCOUNTER', 'MODALITY_CODE', 'Id'], path)"
   ]
  },
  {
   "cell_type": "code",
   "execution_count": 9,
   "metadata": {
    "id": "TzHFHxFjq3MC"
   },
   "outputs": [],
   "source": [
    "medications1 = get_table('scenario04', 'medications', ['START', 'STOP', 'PATIENT', 'ENCOUNTER', 'CODE', 'DESCRIPTION'], path)\n",
    "medications2 = get_table('scenario03', 'medications', ['START', 'STOP', 'PATIENT', 'ENCOUNTER', 'CODE', 'DESCRIPTION'], path)"
   ]
  },
  {
   "cell_type": "code",
   "execution_count": 10,
   "metadata": {
    "id": "J6ppT8murJ3h"
   },
   "outputs": [],
   "source": [
    "procedures1 = get_table('scenario04', 'procedures', ['START', 'STOP', 'PATIENT', 'ENCOUNTER', 'CODE', 'DESCRIPTION'], path)\n",
    "procedures2 = get_table('scenario03', 'procedures', ['START', 'STOP', 'PATIENT', 'ENCOUNTER', 'CODE', 'DESCRIPTION'], path)"
   ]
  },
  {
   "cell_type": "markdown",
   "metadata": {
    "id": "5mKUDRLlgL2O"
   },
   "source": [
    "# Data pre-processing"
   ]
  },
  {
   "cell_type": "code",
   "execution_count": null,
   "metadata": {
    "colab": {
     "base_uri": "https://localhost:8080/"
    },
    "id": "-Pt-cLFw14Cn",
    "outputId": "d7d0befc-ab52-4341-dfc0-f218cdac5cbb"
   },
   "outputs": [
    {
     "data": {
      "text/plain": [
       "patient                   object\n",
       "birthdate                 object\n",
       "deathdate                 object\n",
       "gender                    object\n",
       "encounter                 object\n",
       "start_encounters          object\n",
       "stop_encounters           object\n",
       "encounterclass            object\n",
       "start_conditions          object\n",
       "stop_conditions           object\n",
       "code_conditions            int64\n",
       "description_conditions    object\n",
       "organization              object\n",
       "dtype: object"
      ]
     },
     "execution_count": 12,
     "metadata": {},
     "output_type": "execute_result"
    }
   ],
   "source": [
    "df1.dtypes"
   ]
  },
  {
   "cell_type": "markdown",
   "metadata": {
    "id": "QV266pjmYN-F"
   },
   "source": [
    "Conversion of date columns to datetime type so you can work with them as dates"
   ]
  },
  {
   "cell_type": "code",
   "execution_count": null,
   "metadata": {
    "id": "XADJKKpb2Z6s"
   },
   "outputs": [],
   "source": [
    "def convert_datetime(df, columns, format='%Y-%m-%d'):\n",
    "  for column in columns:\n",
    "    df[column] = pd.to_datetime(df[column], format=format)\n",
    "  return df\n",
    "\n",
    "\n",
    "columns = ['birthdate', 'deathdate', 'start_encounters', 'stop_encounters', 'start_conditions', 'stop_conditions']\n",
    "df1 = convert_datetime(df1, columns)\n",
    "df2 = convert_datetime(df2, columns)"
   ]
  },
  {
   "cell_type": "code",
   "execution_count": null,
   "metadata": {
    "colab": {
     "base_uri": "https://localhost:8080/"
    },
    "id": "OFijMpAcvIdj",
    "outputId": "de714dce-ba2f-4061-94d0-df316e104bed"
   },
   "outputs": [
    {
     "data": {
      "text/plain": [
       "patient                                object\n",
       "birthdate                      datetime64[ns]\n",
       "deathdate                      datetime64[ns]\n",
       "gender                                 object\n",
       "encounter                              object\n",
       "start_encounters          datetime64[ns, UTC]\n",
       "stop_encounters           datetime64[ns, UTC]\n",
       "encounterclass                         object\n",
       "start_conditions               datetime64[ns]\n",
       "stop_conditions                datetime64[ns]\n",
       "code_conditions                         int64\n",
       "description_conditions                 object\n",
       "organization                           object\n",
       "dtype: object"
      ]
     },
     "execution_count": 14,
     "metadata": {},
     "output_type": "execute_result"
    }
   ],
   "source": [
    "df1.dtypes"
   ]
  },
  {
   "cell_type": "code",
   "execution_count": null,
   "metadata": {
    "id": "tZojz8unQ0hl"
   },
   "outputs": [],
   "source": [
    "#Corrects the type of the feature, which was an array, to just datetime[ns]\n",
    "df1['start_encounters'] = df1['start_encounters'].values\n",
    "df1['stop_encounters'] = df1['stop_encounters'].values\n",
    "df2['start_encounters'] = df2['start_encounters'].values\n",
    "df2['stop_encounters'] = df2['stop_encounters'].values"
   ]
  },
  {
   "cell_type": "code",
   "execution_count": null,
   "metadata": {
    "colab": {
     "base_uri": "https://localhost:8080/"
    },
    "id": "RKgcbhKj7upC",
    "outputId": "5379693b-7647-4f7b-db60-9996a5425cf0"
   },
   "outputs": [
    {
     "name": "stdout",
     "output_type": "stream",
     "text": [
      "NaN count for main dataframe columns:\n",
      "\n",
      "Count of NaNs in the column patient                   : 0\n",
      "Count of NaNs in the column birthdate                 : 0\n",
      "Count of NaNs in the column deathdate                 : 3095451\n",
      "Count of NaNs in the column gender                    : 0\n",
      "Count of NaNs in the column encounter                 : 0\n",
      "Count of NaNs in the column start_encounters          : 0\n",
      "Count of NaNs in the column stop_encounters           : 0\n",
      "Count of NaNs in the column encounterclass            : 0\n",
      "Count of NaNs in the column start_conditions          : 0\n",
      "Count of NaNs in the column stop_conditions           : 852295\n",
      "Count of NaNs in the column code_conditions           : 0\n",
      "Count of NaNs in the column description_conditions    : 0\n",
      "Count of NaNs in the column organization              : 0\n"
     ]
    }
   ],
   "source": [
    "print(\"NaN count for main dataframe columns:\\n\")\n",
    "for column in df1.columns:\n",
    "  print(f'Count of NaNs in the column {column:<25} : {df1[column].isnull().sum()}')"
   ]
  },
  {
   "cell_type": "code",
   "execution_count": null,
   "metadata": {
    "colab": {
     "base_uri": "https://localhost:8080/"
    },
    "id": "COyH9UvVstiv",
    "outputId": "eea32917-f6c6-4762-a771-49da87e9719d"
   },
   "outputs": [
    {
     "name": "stdout",
     "output_type": "stream",
     "text": [
      "Quantity of invalid deathdate: 0\n",
      "Quantity of invalid start_encounters: 0\n",
      "Quantity of invalid stop_encounters: 0\n",
      "Quantity of invalid start_conditions: 0\n",
      "Quantity of invalid stop_conditions: 0\n"
     ]
    }
   ],
   "source": [
    "print(f\"Quantity of invalid deathdate: {(df1['deathdate'] < df1['birthdate']).sum()}\")\n",
    "print(f\"Quantity of invalid start_encounters: {(df1['start_encounters'] < df1['birthdate']).sum()}\")\n",
    "print(f\"Quantity of invalid stop_encounters: {(df1['stop_encounters'] < df1['start_encounters']).sum()}\")\n",
    "print(f\"Quantity of invalid start_conditions: {(df1['start_conditions'] < df1['birthdate']).sum()}\")\n",
    "print(f\"Quantity of invalid stop_conditions: {(df1['stop_conditions'] < df1['start_conditions']).sum()}\")"
   ]
  },
  {
   "cell_type": "markdown",
   "metadata": {
    "id": "YcVx6Bz42Hnj"
   },
   "source": [
    "#Feature Engineering"
   ]
  },
  {
   "cell_type": "code",
   "execution_count": null,
   "metadata": {
    "id": "xRRspJ6zzQM_"
   },
   "outputs": [],
   "source": [
    "def create_feature(df: pd.DataFrame, select: bool, column: str, new_column: str, list_to_keep: list = []):\n",
    "  if select:\n",
    "    tmp = df.loc[df[column].isin(list_to_keep)]\n",
    "  else:\n",
    "    tmp = df.copy()\n",
    "  dict1 = tmp.groupby(['patient'])[column].nunique().to_dict()\n",
    "  df[new_column] = df['patient'].map(dict1)\n",
    "  df[new_column].fillna(0, inplace=True)\n",
    "  return df"
   ]
  },
  {
   "cell_type": "markdown",
   "metadata": {
    "id": "PIMVrXsZxugu"
   },
   "source": [
    "## Images table"
   ]
  },
  {
   "cell_type": "markdown",
   "metadata": {
    "id": "oy-4QKCUxt67"
   },
   "source": [
    "We used the images table to create a column on the main dataframe. This column will be the count of different CTs (Computed Tomography) that the patient has done.\n",
    "\n",
    "We are creating this column because we believe it may be relevant information, because when the patient is submitted to CT we can infer that it belongs to a higher risk group."
   ]
  },
  {
   "cell_type": "code",
   "execution_count": null,
   "metadata": {
    "id": "bO7mDkv7TSOv"
   },
   "outputs": [],
   "source": [
    "def create_img_col(df: pd.DataFrame, code:str, column_name: str):\n",
    "  tmp = df.loc[df['modality_code'] == code]\n",
    "  dict1 = tmp.groupby(['patient'])['id'].nunique().to_dict()\n",
    "  df[column_name] = df['patient'].map(dict1)\n",
    "  df[column_name].fillna(0, inplace=True)\n",
    "  return df"
   ]
  },
  {
   "cell_type": "code",
   "execution_count": null,
   "metadata": {
    "id": "1xVccVIHMaAN"
   },
   "outputs": [],
   "source": [
    "images1 = create_img_col(images1, 'CT', 'cts')\n",
    "images1 = images1.groupby('patient').agg({'cts': 'max'})\n",
    "images1.reset_index(inplace=True)\n",
    "\n",
    "images2 = create_img_col(images2, 'CT', 'cts')\n",
    "images2 = images2.groupby('patient').agg({'cts': 'max'})\n",
    "images2.reset_index(inplace=True)"
   ]
  },
  {
   "cell_type": "markdown",
   "metadata": {
    "id": "HhPH-SRoyV_I"
   },
   "source": [
    "## Medications table"
   ]
  },
  {
   "cell_type": "markdown",
   "metadata": {
    "id": "C_r6mDnTyYG1"
   },
   "source": [
    "We used the medication table to create three columns in the main dataframe, one with the amount of different medications the patient takes, another indicating how many different contraceptives the patient takes, and the last one indicating how many different anticoagulants the patient takes.\n",
    "\n",
    "The first column 'cnt_medications' we are creating because we believe that the amount of different medications the patient takes can indicate other health problems.\n",
    "\n",
    "The second column we are creating because it is known that taking certain contraceptives increases the chance of venous thrombosis, but alsos indicates that if the patient had thrombosis, which was probably caused by the contraceptive, the chance of cure is greater, since stopping the drug reduces the chance of bigger problems in the future.\n",
    "\n",
    "The third one, we are creating because one of the treatments for venous thrombosis is the use of anticoagulants, so the use of the drug may indicate an improvement in the patient after the diagnosis, and also that the severity of the disease was not so high.\n"
   ]
  },
  {
   "cell_type": "code",
   "execution_count": null,
   "metadata": {
    "id": "gDJZJe6P-jUM"
   },
   "outputs": [],
   "source": [
    "contraceptive = ['168 HR Ethinyl Estradiol 0.00146 MG/HR / norelgestromin 0.00625 MG/HR Transdermal System', 'Estrostep Fe 28 Day Pack', 'Levora 0.15/30 28 Day Pack',\n",
    "                  'Mestranol / Norethynodrel [Enovid]', 'Norinyl 1+50 28 Day Pack', 'NuvaRing 0.12/0.015 MG per 24HR 21 Day Vaginal Ring', 'Ortho Tri-Cyclen 28 Day Pack',\n",
    "                 'Seasonique 91 Day Pack',  'Trinessa 28 Day Pack', 'Errin 28 Day Pack', 'Yaz 28 Day Pack']\n",
    "anticoagulant = ['0.3 ML Enoxaparin sodium 100 MG/ML Prefilled Syringe', '0.4 ML Enoxaparin sodium 100 MG/ML Prefilled Syringe', '1 ML Enoxaparin sodium 150 MG/ML Prefilled Syringe', \n",
    "                 '1 ML heparin sodium  porcine 5000 UNT/ML Injection','Warfarin Sodium 5 MG Oral Tablet']\n",
    "\n",
    "medications1 = create_feature(medications1, True, 'description_medications', 'contraceptive', contraceptive)\n",
    "medications1 = create_feature(medications1, True, 'description_medications', 'anticoagulant', anticoagulant)\n",
    "medications1 = create_feature(medications1, False, 'description_medications', 'cnt_medications')\n",
    "\n",
    "medications2 = create_feature(medications2, True, 'description_medications', 'contraceptive', contraceptive)\n",
    "medications2 = create_feature(medications2, True, 'description_medications', 'anticoagulant', anticoagulant)\n",
    "medications2 = create_feature(medications2, False, 'description_medications', 'cnt_medications')\n"
   ]
  },
  {
   "cell_type": "code",
   "execution_count": null,
   "metadata": {
    "id": "BkRxesgd442-"
   },
   "outputs": [],
   "source": [
    "medications1 = medications1.groupby('patient').agg({'contraceptive': 'max', 'anticoagulant': 'max', 'cnt_medications':'max'})\n",
    "medications1.reset_index(inplace=True)\n",
    "\n",
    "medications2 = medications2.groupby('patient').agg({'contraceptive': 'max', 'anticoagulant': 'max', 'cnt_medications':'max'})\n",
    "medications2.reset_index(inplace=True)"
   ]
  },
  {
   "cell_type": "markdown",
   "metadata": {
    "id": "ue0Ao3r1zlPB"
   },
   "source": [
    "## Procedures table"
   ]
  },
  {
   "cell_type": "markdown",
   "metadata": {
    "id": "VUrF6_elzrlv"
   },
   "source": [
    "We use the procedure table to create a column in the main dataframe. This column will be the number of different surgeries the patient has done.\n",
    "\n",
    "We created this column because venous thrombosis may be a result of complications from a surgery. This feature uses the procedures table and counts how many surgeries the patient has undergone, the idea here is that maybe patients with a lot of surgeries are more likely to have other serious health issues.\n"
   ]
  },
  {
   "cell_type": "code",
   "execution_count": null,
   "metadata": {
    "id": "lduKj9JfCFvm"
   },
   "outputs": [],
   "source": [
    "procedures = [699253003, 387685009, 305433001, 429609002, 445912000, 305425002]\n",
    "procedures1 = create_feature(procedures1, True, 'code_procedures', 'cnt_procedures', procedures)\n",
    "procedures1 = procedures1.groupby('patient').agg({'cnt_procedures': 'max'})\n",
    "procedures1.reset_index(inplace=True)\n",
    "\n",
    "procedures2 = create_feature(procedures2, True, 'code_procedures', 'cnt_procedures', procedures)\n",
    "procedures2 = procedures2.groupby('patient').agg({'cnt_procedures': 'max'})\n",
    "procedures2.reset_index(inplace=True)"
   ]
  },
  {
   "cell_type": "markdown",
   "metadata": {
    "id": "mwBFHB0BFCf4"
   },
   "source": [
    "## Main dataframe"
   ]
  },
  {
   "cell_type": "markdown",
   "metadata": {
    "id": "uell6Nf6SVMR"
   },
   "source": [
    "We created a column that indicates the age of the patient. If the patient has died, we do $deathdate - birthdate$ and if we don't have the death date, we consider that the patient is still alive, so we do  $today - birthdate$ "
   ]
  },
  {
   "cell_type": "code",
   "execution_count": null,
   "metadata": {
    "id": "vYq0dNqoFJVx"
   },
   "outputs": [],
   "source": [
    "from datetime import date\n",
    "\n",
    "def get_age(birthdate, deathdate):\n",
    "  age = 0\n",
    "  today = date.today()\n",
    "  if pd.isnull(deathdate):\n",
    "    age = today.year - birthdate.year - ((today.month, today.day) < (birthdate.month, birthdate.day))\n",
    "\n",
    "  else:\n",
    "    age = deathdate.year - birthdate.year - ((deathdate.month, deathdate.day) < (birthdate.month, birthdate.day))\n",
    "\n",
    "  return age\n",
    "\n",
    "\n",
    "df1['age'] = df1.apply(lambda x: get_age(x['birthdate'], x['deathdate']), axis=1)\n",
    "df2['age'] = df2.apply(lambda x: get_age(x['birthdate'], x['deathdate']), axis=1)"
   ]
  },
  {
   "cell_type": "markdown",
   "metadata": {
    "id": "hixkExj3TSZY"
   },
   "source": [
    "Here we create a column that indicates the number of distinct encounters the patient had.\n",
    "\n",
    "We created this column because we believe that patients with more encounters, have more health issues and therefore greater chance of death."
   ]
  },
  {
   "cell_type": "code",
   "execution_count": null,
   "metadata": {
    "id": "eV_ZD-_pSPz-"
   },
   "outputs": [],
   "source": [
    "df1 = create_feature(df1, False, 'encounter', 'cnt_encounters')\n",
    "df2 = create_feature(df2, False, 'encounter', 'cnt_encounters')"
   ]
  },
  {
   "cell_type": "markdown",
   "metadata": {
    "id": "mklw0zZYTpJW"
   },
   "source": [
    "Here we filter for our patients of interest. We filter for patients that had acute deep venous thrombosis and get just the last encounter with this condition."
   ]
  },
  {
   "cell_type": "code",
   "execution_count": null,
   "metadata": {
    "colab": {
     "base_uri": "https://localhost:8080/",
     "height": 476
    },
    "id": "-og3y7C1Su_Q",
    "outputId": "e2a9a5ec-b767-4027-c912-ae9926c56e7c"
   },
   "outputs": [
    {
     "data": {
      "text/html": [
       "\n",
       "  <div id=\"df-f525ecc8-a52f-469d-af39-c73ad7c2bd73\">\n",
       "    <div class=\"colab-df-container\">\n",
       "      <div>\n",
       "<style scoped>\n",
       "    .dataframe tbody tr th:only-of-type {\n",
       "        vertical-align: middle;\n",
       "    }\n",
       "\n",
       "    .dataframe tbody tr th {\n",
       "        vertical-align: top;\n",
       "    }\n",
       "\n",
       "    .dataframe thead th {\n",
       "        text-align: right;\n",
       "    }\n",
       "</style>\n",
       "<table border=\"1\" class=\"dataframe\">\n",
       "  <thead>\n",
       "    <tr style=\"text-align: right;\">\n",
       "      <th></th>\n",
       "      <th>patient</th>\n",
       "      <th>birthdate</th>\n",
       "      <th>deathdate</th>\n",
       "      <th>gender</th>\n",
       "      <th>encounter</th>\n",
       "      <th>start_encounters</th>\n",
       "      <th>stop_encounters</th>\n",
       "      <th>encounterclass</th>\n",
       "      <th>start_conditions</th>\n",
       "      <th>stop_conditions</th>\n",
       "      <th>code_conditions</th>\n",
       "      <th>description_conditions</th>\n",
       "      <th>organization</th>\n",
       "      <th>age</th>\n",
       "      <th>cnt_encounters</th>\n",
       "    </tr>\n",
       "  </thead>\n",
       "  <tbody>\n",
       "    <tr>\n",
       "      <th>3203746</th>\n",
       "      <td>00db4c05-092a-e93b-089b-0f20b26b92aa</td>\n",
       "      <td>1952-11-24</td>\n",
       "      <td>NaT</td>\n",
       "      <td>F</td>\n",
       "      <td>52cc9647-d6da-b13c-f7bb-aa71907bccb9</td>\n",
       "      <td>2020-10-14 22:33:06</td>\n",
       "      <td>2020-10-23 23:09:39</td>\n",
       "      <td>inpatient</td>\n",
       "      <td>2020-10-23</td>\n",
       "      <td>2020-10-29</td>\n",
       "      <td>132281000119108</td>\n",
       "      <td>Acute deep venous thrombosis (disorder)</td>\n",
       "      <td>ATHOL MEMORIAL HOSPITAL</td>\n",
       "      <td>69</td>\n",
       "      <td>51</td>\n",
       "    </tr>\n",
       "    <tr>\n",
       "      <th>2423669</th>\n",
       "      <td>0130fb9c-6e6d-0f0c-f4e3-711ecc2f240b</td>\n",
       "      <td>1956-10-18</td>\n",
       "      <td>NaT</td>\n",
       "      <td>M</td>\n",
       "      <td>e253c113-b5f2-1921-4079-a93a6f8e37fb</td>\n",
       "      <td>2020-12-09 15:18:55</td>\n",
       "      <td>2020-12-21 15:54:25</td>\n",
       "      <td>inpatient</td>\n",
       "      <td>2020-12-21</td>\n",
       "      <td>2020-12-21</td>\n",
       "      <td>132281000119108</td>\n",
       "      <td>Acute deep venous thrombosis (disorder)</td>\n",
       "      <td>LAWRENCE GENERAL HOSPITAL</td>\n",
       "      <td>65</td>\n",
       "      <td>26</td>\n",
       "    </tr>\n",
       "    <tr>\n",
       "      <th>2993119</th>\n",
       "      <td>0133d3a1-00dd-5984-f366-be7626117a45</td>\n",
       "      <td>1990-04-29</td>\n",
       "      <td>NaT</td>\n",
       "      <td>M</td>\n",
       "      <td>98152e58-4640-e5f3-6ce6-ab65938dd6d9</td>\n",
       "      <td>2020-11-09 18:45:57</td>\n",
       "      <td>2020-11-19 19:23:42</td>\n",
       "      <td>inpatient</td>\n",
       "      <td>2020-11-19</td>\n",
       "      <td>2020-11-19</td>\n",
       "      <td>132281000119108</td>\n",
       "      <td>Acute deep venous thrombosis (disorder)</td>\n",
       "      <td>LAHEY HOSPITAL &amp; MEDICAL CENTER  BURLINGTON</td>\n",
       "      <td>32</td>\n",
       "      <td>11</td>\n",
       "    </tr>\n",
       "    <tr>\n",
       "      <th>2851253</th>\n",
       "      <td>01d07cee-3af6-85cf-b8f7-c034f0aa47e0</td>\n",
       "      <td>1968-09-07</td>\n",
       "      <td>NaT</td>\n",
       "      <td>F</td>\n",
       "      <td>f35556d9-5176-2b39-6741-d6d64bf9e6d1</td>\n",
       "      <td>2021-01-12 04:48:52</td>\n",
       "      <td>2021-01-24 05:04:19</td>\n",
       "      <td>inpatient</td>\n",
       "      <td>2021-01-22</td>\n",
       "      <td>2021-01-24</td>\n",
       "      <td>132281000119108</td>\n",
       "      <td>Acute deep venous thrombosis (disorder)</td>\n",
       "      <td>UMASS MEMORIAL MEDICAL CENTER INC</td>\n",
       "      <td>53</td>\n",
       "      <td>43</td>\n",
       "    </tr>\n",
       "    <tr>\n",
       "      <th>131016</th>\n",
       "      <td>0219cef3-0fa6-2b6c-1e07-a22c2baf3657</td>\n",
       "      <td>1963-05-02</td>\n",
       "      <td>NaT</td>\n",
       "      <td>M</td>\n",
       "      <td>0c4ccbb6-3506-edc7-4719-560a7637aa72</td>\n",
       "      <td>2020-08-22 22:03:52</td>\n",
       "      <td>2020-08-31 22:44:46</td>\n",
       "      <td>inpatient</td>\n",
       "      <td>2020-08-28</td>\n",
       "      <td>2020-08-31</td>\n",
       "      <td>132281000119108</td>\n",
       "      <td>Acute deep venous thrombosis (disorder)</td>\n",
       "      <td>EMERSON HOSPITAL -</td>\n",
       "      <td>59</td>\n",
       "      <td>25</td>\n",
       "    </tr>\n",
       "  </tbody>\n",
       "</table>\n",
       "</div>\n",
       "      <button class=\"colab-df-convert\" onclick=\"convertToInteractive('df-f525ecc8-a52f-469d-af39-c73ad7c2bd73')\"\n",
       "              title=\"Convert this dataframe to an interactive table.\"\n",
       "              style=\"display:none;\">\n",
       "        \n",
       "  <svg xmlns=\"http://www.w3.org/2000/svg\" height=\"24px\"viewBox=\"0 0 24 24\"\n",
       "       width=\"24px\">\n",
       "    <path d=\"M0 0h24v24H0V0z\" fill=\"none\"/>\n",
       "    <path d=\"M18.56 5.44l.94 2.06.94-2.06 2.06-.94-2.06-.94-.94-2.06-.94 2.06-2.06.94zm-11 1L8.5 8.5l.94-2.06 2.06-.94-2.06-.94L8.5 2.5l-.94 2.06-2.06.94zm10 10l.94 2.06.94-2.06 2.06-.94-2.06-.94-.94-2.06-.94 2.06-2.06.94z\"/><path d=\"M17.41 7.96l-1.37-1.37c-.4-.4-.92-.59-1.43-.59-.52 0-1.04.2-1.43.59L10.3 9.45l-7.72 7.72c-.78.78-.78 2.05 0 2.83L4 21.41c.39.39.9.59 1.41.59.51 0 1.02-.2 1.41-.59l7.78-7.78 2.81-2.81c.8-.78.8-2.07 0-2.86zM5.41 20L4 18.59l7.72-7.72 1.47 1.35L5.41 20z\"/>\n",
       "  </svg>\n",
       "      </button>\n",
       "      \n",
       "  <style>\n",
       "    .colab-df-container {\n",
       "      display:flex;\n",
       "      flex-wrap:wrap;\n",
       "      gap: 12px;\n",
       "    }\n",
       "\n",
       "    .colab-df-convert {\n",
       "      background-color: #E8F0FE;\n",
       "      border: none;\n",
       "      border-radius: 50%;\n",
       "      cursor: pointer;\n",
       "      display: none;\n",
       "      fill: #1967D2;\n",
       "      height: 32px;\n",
       "      padding: 0 0 0 0;\n",
       "      width: 32px;\n",
       "    }\n",
       "\n",
       "    .colab-df-convert:hover {\n",
       "      background-color: #E2EBFA;\n",
       "      box-shadow: 0px 1px 2px rgba(60, 64, 67, 0.3), 0px 1px 3px 1px rgba(60, 64, 67, 0.15);\n",
       "      fill: #174EA6;\n",
       "    }\n",
       "\n",
       "    [theme=dark] .colab-df-convert {\n",
       "      background-color: #3B4455;\n",
       "      fill: #D2E3FC;\n",
       "    }\n",
       "\n",
       "    [theme=dark] .colab-df-convert:hover {\n",
       "      background-color: #434B5C;\n",
       "      box-shadow: 0px 1px 3px 1px rgba(0, 0, 0, 0.15);\n",
       "      filter: drop-shadow(0px 1px 2px rgba(0, 0, 0, 0.3));\n",
       "      fill: #FFFFFF;\n",
       "    }\n",
       "  </style>\n",
       "\n",
       "      <script>\n",
       "        const buttonEl =\n",
       "          document.querySelector('#df-f525ecc8-a52f-469d-af39-c73ad7c2bd73 button.colab-df-convert');\n",
       "        buttonEl.style.display =\n",
       "          google.colab.kernel.accessAllowed ? 'block' : 'none';\n",
       "\n",
       "        async function convertToInteractive(key) {\n",
       "          const element = document.querySelector('#df-f525ecc8-a52f-469d-af39-c73ad7c2bd73');\n",
       "          const dataTable =\n",
       "            await google.colab.kernel.invokeFunction('convertToInteractive',\n",
       "                                                     [key], {});\n",
       "          if (!dataTable) return;\n",
       "\n",
       "          const docLinkHtml = 'Like what you see? Visit the ' +\n",
       "            '<a target=\"_blank\" href=https://colab.research.google.com/notebooks/data_table.ipynb>data table notebook</a>'\n",
       "            + ' to learn more about interactive tables.';\n",
       "          element.innerHTML = '';\n",
       "          dataTable['output_type'] = 'display_data';\n",
       "          await google.colab.output.renderOutput(dataTable, element);\n",
       "          const docLink = document.createElement('div');\n",
       "          docLink.innerHTML = docLinkHtml;\n",
       "          element.appendChild(docLink);\n",
       "        }\n",
       "      </script>\n",
       "    </div>\n",
       "  </div>\n",
       "  "
      ],
      "text/plain": [
       "                                      patient  birthdate deathdate gender  \\\n",
       "3203746  00db4c05-092a-e93b-089b-0f20b26b92aa 1952-11-24       NaT      F   \n",
       "2423669  0130fb9c-6e6d-0f0c-f4e3-711ecc2f240b 1956-10-18       NaT      M   \n",
       "2993119  0133d3a1-00dd-5984-f366-be7626117a45 1990-04-29       NaT      M   \n",
       "2851253  01d07cee-3af6-85cf-b8f7-c034f0aa47e0 1968-09-07       NaT      F   \n",
       "131016   0219cef3-0fa6-2b6c-1e07-a22c2baf3657 1963-05-02       NaT      M   \n",
       "\n",
       "                                    encounter    start_encounters  \\\n",
       "3203746  52cc9647-d6da-b13c-f7bb-aa71907bccb9 2020-10-14 22:33:06   \n",
       "2423669  e253c113-b5f2-1921-4079-a93a6f8e37fb 2020-12-09 15:18:55   \n",
       "2993119  98152e58-4640-e5f3-6ce6-ab65938dd6d9 2020-11-09 18:45:57   \n",
       "2851253  f35556d9-5176-2b39-6741-d6d64bf9e6d1 2021-01-12 04:48:52   \n",
       "131016   0c4ccbb6-3506-edc7-4719-560a7637aa72 2020-08-22 22:03:52   \n",
       "\n",
       "            stop_encounters encounterclass start_conditions stop_conditions  \\\n",
       "3203746 2020-10-23 23:09:39      inpatient       2020-10-23      2020-10-29   \n",
       "2423669 2020-12-21 15:54:25      inpatient       2020-12-21      2020-12-21   \n",
       "2993119 2020-11-19 19:23:42      inpatient       2020-11-19      2020-11-19   \n",
       "2851253 2021-01-24 05:04:19      inpatient       2021-01-22      2021-01-24   \n",
       "131016  2020-08-31 22:44:46      inpatient       2020-08-28      2020-08-31   \n",
       "\n",
       "         code_conditions                   description_conditions  \\\n",
       "3203746  132281000119108  Acute deep venous thrombosis (disorder)   \n",
       "2423669  132281000119108  Acute deep venous thrombosis (disorder)   \n",
       "2993119  132281000119108  Acute deep venous thrombosis (disorder)   \n",
       "2851253  132281000119108  Acute deep venous thrombosis (disorder)   \n",
       "131016   132281000119108  Acute deep venous thrombosis (disorder)   \n",
       "\n",
       "                                        organization  age  cnt_encounters  \n",
       "3203746                      ATHOL MEMORIAL HOSPITAL   69              51  \n",
       "2423669                    LAWRENCE GENERAL HOSPITAL   65              26  \n",
       "2993119  LAHEY HOSPITAL & MEDICAL CENTER  BURLINGTON   32              11  \n",
       "2851253            UMASS MEMORIAL MEDICAL CENTER INC   53              43  \n",
       "131016                            EMERSON HOSPITAL -   59              25  "
      ]
     },
     "execution_count": 26,
     "metadata": {},
     "output_type": "execute_result"
    }
   ],
   "source": [
    "df = df1[df1['code_conditions'] == 132281000119108].copy()\n",
    "df = df.sort_values('patient')\n",
    "df = df.loc[df.groupby('patient')['start_encounters'].idxmax()].copy()\n",
    "df.head(5)"
   ]
  },
  {
   "cell_type": "code",
   "execution_count": null,
   "metadata": {
    "colab": {
     "base_uri": "https://localhost:8080/",
     "height": 441
    },
    "id": "FBybPg8vS0nN",
    "outputId": "f92066bc-435c-4a5f-84c2-75ed0de36547"
   },
   "outputs": [
    {
     "data": {
      "text/html": [
       "\n",
       "  <div id=\"df-c659c979-2e97-4017-931a-f8a450b1f81f\">\n",
       "    <div class=\"colab-df-container\">\n",
       "      <div>\n",
       "<style scoped>\n",
       "    .dataframe tbody tr th:only-of-type {\n",
       "        vertical-align: middle;\n",
       "    }\n",
       "\n",
       "    .dataframe tbody tr th {\n",
       "        vertical-align: top;\n",
       "    }\n",
       "\n",
       "    .dataframe thead th {\n",
       "        text-align: right;\n",
       "    }\n",
       "</style>\n",
       "<table border=\"1\" class=\"dataframe\">\n",
       "  <thead>\n",
       "    <tr style=\"text-align: right;\">\n",
       "      <th></th>\n",
       "      <th>patient</th>\n",
       "      <th>birthdate</th>\n",
       "      <th>deathdate</th>\n",
       "      <th>gender</th>\n",
       "      <th>encounter</th>\n",
       "      <th>start_encounters</th>\n",
       "      <th>stop_encounters</th>\n",
       "      <th>encounterclass</th>\n",
       "      <th>start_conditions</th>\n",
       "      <th>stop_conditions</th>\n",
       "      <th>code_conditions</th>\n",
       "      <th>description_conditions</th>\n",
       "      <th>organization</th>\n",
       "      <th>age</th>\n",
       "      <th>cnt_encounters</th>\n",
       "    </tr>\n",
       "  </thead>\n",
       "  <tbody>\n",
       "    <tr>\n",
       "      <th>126544</th>\n",
       "      <td>08ae0892-52f4-3d76-58c4-3ab3e247ad86</td>\n",
       "      <td>1969-03-09</td>\n",
       "      <td>2021-04-30</td>\n",
       "      <td>M</td>\n",
       "      <td>61c4259e-0638-83f3-21c4-61a5beaa59f1</td>\n",
       "      <td>2021-04-17 12:04:13</td>\n",
       "      <td>2021-04-23 12:47:36</td>\n",
       "      <td>inpatient</td>\n",
       "      <td>2021-04-22</td>\n",
       "      <td>NaT</td>\n",
       "      <td>132281000119108</td>\n",
       "      <td>Acute deep venous thrombosis (disorder)</td>\n",
       "      <td>NORTHWEST HOSPITAL</td>\n",
       "      <td>52</td>\n",
       "      <td>38</td>\n",
       "    </tr>\n",
       "    <tr>\n",
       "      <th>187745</th>\n",
       "      <td>147573da-1d3f-20be-d5b4-861de0d6d7b2</td>\n",
       "      <td>1947-04-13</td>\n",
       "      <td>2021-05-09</td>\n",
       "      <td>M</td>\n",
       "      <td>1df5d6c2-10d7-0435-4d0e-d0309cb7d3d5</td>\n",
       "      <td>2021-04-25 09:15:16</td>\n",
       "      <td>2021-04-25 09:30:16</td>\n",
       "      <td>outpatient</td>\n",
       "      <td>2021-04-25</td>\n",
       "      <td>NaT</td>\n",
       "      <td>132281000119108</td>\n",
       "      <td>Acute deep venous thrombosis (disorder)</td>\n",
       "      <td>VALLEY MEDICAL CENTER</td>\n",
       "      <td>74</td>\n",
       "      <td>40</td>\n",
       "    </tr>\n",
       "    <tr>\n",
       "      <th>130712</th>\n",
       "      <td>1996d42a-d6dc-7758-9a1f-14ab67abc708</td>\n",
       "      <td>1989-03-09</td>\n",
       "      <td>NaT</td>\n",
       "      <td>M</td>\n",
       "      <td>50585abd-0259-509b-b271-48f598fc2a2a</td>\n",
       "      <td>2020-12-27 20:00:01</td>\n",
       "      <td>2021-01-06 20:18:37</td>\n",
       "      <td>inpatient</td>\n",
       "      <td>2021-01-05</td>\n",
       "      <td>2021-01-06</td>\n",
       "      <td>132281000119108</td>\n",
       "      <td>Acute deep venous thrombosis (disorder)</td>\n",
       "      <td>KITTITAS VALLEY COMMUNITY HOSPITAL</td>\n",
       "      <td>33</td>\n",
       "      <td>12</td>\n",
       "    </tr>\n",
       "    <tr>\n",
       "      <th>151433</th>\n",
       "      <td>1f31e32d-3180-12ad-7e3b-2d2559ccb055</td>\n",
       "      <td>1964-03-22</td>\n",
       "      <td>NaT</td>\n",
       "      <td>M</td>\n",
       "      <td>460d8443-aed0-b405-84d1-b70caa24602f</td>\n",
       "      <td>2020-04-01 04:25:03</td>\n",
       "      <td>2020-04-13 05:02:41</td>\n",
       "      <td>inpatient</td>\n",
       "      <td>2020-04-09</td>\n",
       "      <td>2020-04-13</td>\n",
       "      <td>132281000119108</td>\n",
       "      <td>Acute deep venous thrombosis (disorder)</td>\n",
       "      <td>Walla Walla County Vet Center</td>\n",
       "      <td>58</td>\n",
       "      <td>27</td>\n",
       "    </tr>\n",
       "    <tr>\n",
       "      <th>1492</th>\n",
       "      <td>20294e09-1bb0-0ec0-0568-ee4edc2a4bec</td>\n",
       "      <td>1964-01-14</td>\n",
       "      <td>NaT</td>\n",
       "      <td>F</td>\n",
       "      <td>72f0cc5b-cf9e-5a72-b4d4-a115f2859acb</td>\n",
       "      <td>2021-02-27 19:49:58</td>\n",
       "      <td>2021-03-09 20:21:29</td>\n",
       "      <td>inpatient</td>\n",
       "      <td>2021-03-05</td>\n",
       "      <td>2021-03-09</td>\n",
       "      <td>132281000119108</td>\n",
       "      <td>Acute deep venous thrombosis (disorder)</td>\n",
       "      <td>ST FRANCIS COMMUNITY HOSPITAL</td>\n",
       "      <td>58</td>\n",
       "      <td>28</td>\n",
       "    </tr>\n",
       "  </tbody>\n",
       "</table>\n",
       "</div>\n",
       "      <button class=\"colab-df-convert\" onclick=\"convertToInteractive('df-c659c979-2e97-4017-931a-f8a450b1f81f')\"\n",
       "              title=\"Convert this dataframe to an interactive table.\"\n",
       "              style=\"display:none;\">\n",
       "        \n",
       "  <svg xmlns=\"http://www.w3.org/2000/svg\" height=\"24px\"viewBox=\"0 0 24 24\"\n",
       "       width=\"24px\">\n",
       "    <path d=\"M0 0h24v24H0V0z\" fill=\"none\"/>\n",
       "    <path d=\"M18.56 5.44l.94 2.06.94-2.06 2.06-.94-2.06-.94-.94-2.06-.94 2.06-2.06.94zm-11 1L8.5 8.5l.94-2.06 2.06-.94-2.06-.94L8.5 2.5l-.94 2.06-2.06.94zm10 10l.94 2.06.94-2.06 2.06-.94-2.06-.94-.94-2.06-.94 2.06-2.06.94z\"/><path d=\"M17.41 7.96l-1.37-1.37c-.4-.4-.92-.59-1.43-.59-.52 0-1.04.2-1.43.59L10.3 9.45l-7.72 7.72c-.78.78-.78 2.05 0 2.83L4 21.41c.39.39.9.59 1.41.59.51 0 1.02-.2 1.41-.59l7.78-7.78 2.81-2.81c.8-.78.8-2.07 0-2.86zM5.41 20L4 18.59l7.72-7.72 1.47 1.35L5.41 20z\"/>\n",
       "  </svg>\n",
       "      </button>\n",
       "      \n",
       "  <style>\n",
       "    .colab-df-container {\n",
       "      display:flex;\n",
       "      flex-wrap:wrap;\n",
       "      gap: 12px;\n",
       "    }\n",
       "\n",
       "    .colab-df-convert {\n",
       "      background-color: #E8F0FE;\n",
       "      border: none;\n",
       "      border-radius: 50%;\n",
       "      cursor: pointer;\n",
       "      display: none;\n",
       "      fill: #1967D2;\n",
       "      height: 32px;\n",
       "      padding: 0 0 0 0;\n",
       "      width: 32px;\n",
       "    }\n",
       "\n",
       "    .colab-df-convert:hover {\n",
       "      background-color: #E2EBFA;\n",
       "      box-shadow: 0px 1px 2px rgba(60, 64, 67, 0.3), 0px 1px 3px 1px rgba(60, 64, 67, 0.15);\n",
       "      fill: #174EA6;\n",
       "    }\n",
       "\n",
       "    [theme=dark] .colab-df-convert {\n",
       "      background-color: #3B4455;\n",
       "      fill: #D2E3FC;\n",
       "    }\n",
       "\n",
       "    [theme=dark] .colab-df-convert:hover {\n",
       "      background-color: #434B5C;\n",
       "      box-shadow: 0px 1px 3px 1px rgba(0, 0, 0, 0.15);\n",
       "      filter: drop-shadow(0px 1px 2px rgba(0, 0, 0, 0.3));\n",
       "      fill: #FFFFFF;\n",
       "    }\n",
       "  </style>\n",
       "\n",
       "      <script>\n",
       "        const buttonEl =\n",
       "          document.querySelector('#df-c659c979-2e97-4017-931a-f8a450b1f81f button.colab-df-convert');\n",
       "        buttonEl.style.display =\n",
       "          google.colab.kernel.accessAllowed ? 'block' : 'none';\n",
       "\n",
       "        async function convertToInteractive(key) {\n",
       "          const element = document.querySelector('#df-c659c979-2e97-4017-931a-f8a450b1f81f');\n",
       "          const dataTable =\n",
       "            await google.colab.kernel.invokeFunction('convertToInteractive',\n",
       "                                                     [key], {});\n",
       "          if (!dataTable) return;\n",
       "\n",
       "          const docLinkHtml = 'Like what you see? Visit the ' +\n",
       "            '<a target=\"_blank\" href=https://colab.research.google.com/notebooks/data_table.ipynb>data table notebook</a>'\n",
       "            + ' to learn more about interactive tables.';\n",
       "          element.innerHTML = '';\n",
       "          dataTable['output_type'] = 'display_data';\n",
       "          await google.colab.output.renderOutput(dataTable, element);\n",
       "          const docLink = document.createElement('div');\n",
       "          docLink.innerHTML = docLinkHtml;\n",
       "          element.appendChild(docLink);\n",
       "        }\n",
       "      </script>\n",
       "    </div>\n",
       "  </div>\n",
       "  "
      ],
      "text/plain": [
       "                                     patient  birthdate  deathdate gender  \\\n",
       "126544  08ae0892-52f4-3d76-58c4-3ab3e247ad86 1969-03-09 2021-04-30      M   \n",
       "187745  147573da-1d3f-20be-d5b4-861de0d6d7b2 1947-04-13 2021-05-09      M   \n",
       "130712  1996d42a-d6dc-7758-9a1f-14ab67abc708 1989-03-09        NaT      M   \n",
       "151433  1f31e32d-3180-12ad-7e3b-2d2559ccb055 1964-03-22        NaT      M   \n",
       "1492    20294e09-1bb0-0ec0-0568-ee4edc2a4bec 1964-01-14        NaT      F   \n",
       "\n",
       "                                   encounter    start_encounters  \\\n",
       "126544  61c4259e-0638-83f3-21c4-61a5beaa59f1 2021-04-17 12:04:13   \n",
       "187745  1df5d6c2-10d7-0435-4d0e-d0309cb7d3d5 2021-04-25 09:15:16   \n",
       "130712  50585abd-0259-509b-b271-48f598fc2a2a 2020-12-27 20:00:01   \n",
       "151433  460d8443-aed0-b405-84d1-b70caa24602f 2020-04-01 04:25:03   \n",
       "1492    72f0cc5b-cf9e-5a72-b4d4-a115f2859acb 2021-02-27 19:49:58   \n",
       "\n",
       "           stop_encounters encounterclass start_conditions stop_conditions  \\\n",
       "126544 2021-04-23 12:47:36      inpatient       2021-04-22             NaT   \n",
       "187745 2021-04-25 09:30:16     outpatient       2021-04-25             NaT   \n",
       "130712 2021-01-06 20:18:37      inpatient       2021-01-05      2021-01-06   \n",
       "151433 2020-04-13 05:02:41      inpatient       2020-04-09      2020-04-13   \n",
       "1492   2021-03-09 20:21:29      inpatient       2021-03-05      2021-03-09   \n",
       "\n",
       "        code_conditions                   description_conditions  \\\n",
       "126544  132281000119108  Acute deep venous thrombosis (disorder)   \n",
       "187745  132281000119108  Acute deep venous thrombosis (disorder)   \n",
       "130712  132281000119108  Acute deep venous thrombosis (disorder)   \n",
       "151433  132281000119108  Acute deep venous thrombosis (disorder)   \n",
       "1492    132281000119108  Acute deep venous thrombosis (disorder)   \n",
       "\n",
       "                              organization  age  cnt_encounters  \n",
       "126544                  NORTHWEST HOSPITAL   52              38  \n",
       "187745               VALLEY MEDICAL CENTER   74              40  \n",
       "130712  KITTITAS VALLEY COMMUNITY HOSPITAL   33              12  \n",
       "151433       Walla Walla County Vet Center   58              27  \n",
       "1492         ST FRANCIS COMMUNITY HOSPITAL   58              28  "
      ]
     },
     "execution_count": 27,
     "metadata": {},
     "output_type": "execute_result"
    }
   ],
   "source": [
    "df_test = df2[df2['code_conditions'] == 132281000119108].copy()\n",
    "df_test = df_test.sort_values('patient')\n",
    "df_test = df_test.loc[df_test.groupby('patient')['start_encounters'].idxmax()].copy()\n",
    "df_test.head(5)"
   ]
  },
  {
   "cell_type": "markdown",
   "metadata": {
    "id": "b9Lilf1l8XqD"
   },
   "source": [
    "Here we join the other dataframes (images, medications e procedures) with our main dataframe."
   ]
  },
  {
   "cell_type": "code",
   "execution_count": null,
   "metadata": {
    "id": "JFqriRZq8gAr"
   },
   "outputs": [],
   "source": [
    "df_train = df.merge(images1, on='patient', how='left')\n",
    "df_train = df_train.merge(medications1, on='patient', how='left')\n",
    "df_train = df_train.merge(procedures1, on='patient', how='left')\n",
    "\n",
    "df_test = df_test.merge(images1, on='patient', how='left')\n",
    "df_test = df_test.merge(medications1, on='patient', how='left')\n",
    "df_test = df_test.merge(procedures1, on='patient', how='left')\n",
    "\n",
    "columns = ['cts', 'contraceptive', 'anticoagulant', 'cnt_medications', 'cnt_procedures']\n",
    "for column in columns:\n",
    "  df_train[column].fillna(0, inplace=True)\n",
    "  df_test[column].fillna(0, inplace=True)"
   ]
  },
  {
   "cell_type": "markdown",
   "metadata": {
    "id": "x9ka4E9QUCH-"
   },
   "source": [
    "We created a column that indicates the number of days that the last encounter and the condition lasted.\n",
    " \n",
    "For both, if we do not have the date, we consider that it ended today, but if we have the date, we use the stop date."
   ]
  },
  {
   "cell_type": "code",
   "execution_count": null,
   "metadata": {
    "id": "rEwj6gFirjOs"
   },
   "outputs": [],
   "source": [
    "from datetime import datetime\n",
    "\n",
    "def get_duration(start, stop):\n",
    "  dur = 0\n",
    "  today = datetime.now()\n",
    "\n",
    "  if pd.isnull(stop):\n",
    "    dur  = (today - start).days\n",
    "\n",
    "  else:\n",
    "    dur = (stop - start).days\n",
    "  return dur\n",
    "\n",
    "df_train['last_encounter_dur'] = df_train.apply(lambda x : get_duration(x['start_encounters'], x['stop_encounters']), axis=1)\n",
    "df_train['condition_dur'] = df_train.apply(lambda x : get_duration(x['start_conditions'], x['stop_conditions']), axis=1)\n",
    "\n",
    "df_test['last_encounter_dur'] = df_test.apply(lambda x : get_duration(x['start_encounters'], x['stop_encounters']), axis=1)\n",
    "df_test['condition_dur'] = df_test.apply(lambda x : get_duration(x['start_conditions'], x['stop_conditions']), axis=1)"
   ]
  },
  {
   "cell_type": "markdown",
   "metadata": {
    "id": "jbJmZbvAUOgy"
   },
   "source": [
    "We created the target, which indicates, from the date of the last encounter with thrombosis, if the patient died within the next 5 years. So we attribute 1 if the patient died and 0 if he did not die or died after the 5 years."
   ]
  },
  {
   "cell_type": "code",
   "execution_count": null,
   "metadata": {
    "colab": {
     "base_uri": "https://localhost:8080/",
     "height": 337
    },
    "id": "2ZVoKaZ_Vmvz",
    "outputId": "b2ee5dae-6684-4394-d47c-e1250a7b2269"
   },
   "outputs": [
    {
     "data": {
      "text/html": [
       "\n",
       "  <div id=\"df-120853b5-6b3b-4334-bb0a-bd4eb7bfe579\">\n",
       "    <div class=\"colab-df-container\">\n",
       "      <div>\n",
       "<style scoped>\n",
       "    .dataframe tbody tr th:only-of-type {\n",
       "        vertical-align: middle;\n",
       "    }\n",
       "\n",
       "    .dataframe tbody tr th {\n",
       "        vertical-align: top;\n",
       "    }\n",
       "\n",
       "    .dataframe thead th {\n",
       "        text-align: right;\n",
       "    }\n",
       "</style>\n",
       "<table border=\"1\" class=\"dataframe\">\n",
       "  <thead>\n",
       "    <tr style=\"text-align: right;\">\n",
       "      <th></th>\n",
       "      <th>patient</th>\n",
       "      <th>gender</th>\n",
       "      <th>encounterclass</th>\n",
       "      <th>organization</th>\n",
       "      <th>age</th>\n",
       "      <th>cnt_encounters</th>\n",
       "      <th>cts</th>\n",
       "      <th>contraceptive</th>\n",
       "      <th>anticoagulant</th>\n",
       "      <th>cnt_medications</th>\n",
       "      <th>cnt_procedures</th>\n",
       "      <th>last_encounter_dur</th>\n",
       "      <th>condition_dur</th>\n",
       "      <th>target</th>\n",
       "    </tr>\n",
       "  </thead>\n",
       "  <tbody>\n",
       "    <tr>\n",
       "      <th>0</th>\n",
       "      <td>00db4c05-092a-e93b-089b-0f20b26b92aa</td>\n",
       "      <td>F</td>\n",
       "      <td>inpatient</td>\n",
       "      <td>ATHOL MEMORIAL HOSPITAL</td>\n",
       "      <td>69</td>\n",
       "      <td>51</td>\n",
       "      <td>0.0</td>\n",
       "      <td>0.0</td>\n",
       "      <td>2.0</td>\n",
       "      <td>10</td>\n",
       "      <td>0.0</td>\n",
       "      <td>9</td>\n",
       "      <td>6</td>\n",
       "      <td>0</td>\n",
       "    </tr>\n",
       "    <tr>\n",
       "      <th>1</th>\n",
       "      <td>0130fb9c-6e6d-0f0c-f4e3-711ecc2f240b</td>\n",
       "      <td>M</td>\n",
       "      <td>inpatient</td>\n",
       "      <td>LAWRENCE GENERAL HOSPITAL</td>\n",
       "      <td>65</td>\n",
       "      <td>26</td>\n",
       "      <td>0.0</td>\n",
       "      <td>0.0</td>\n",
       "      <td>2.0</td>\n",
       "      <td>10</td>\n",
       "      <td>0.0</td>\n",
       "      <td>12</td>\n",
       "      <td>0</td>\n",
       "      <td>0</td>\n",
       "    </tr>\n",
       "    <tr>\n",
       "      <th>2</th>\n",
       "      <td>0133d3a1-00dd-5984-f366-be7626117a45</td>\n",
       "      <td>M</td>\n",
       "      <td>inpatient</td>\n",
       "      <td>LAHEY HOSPITAL &amp; MEDICAL CENTER  BURLINGTON</td>\n",
       "      <td>32</td>\n",
       "      <td>11</td>\n",
       "      <td>0.0</td>\n",
       "      <td>0.0</td>\n",
       "      <td>2.0</td>\n",
       "      <td>5</td>\n",
       "      <td>0.0</td>\n",
       "      <td>10</td>\n",
       "      <td>0</td>\n",
       "      <td>0</td>\n",
       "    </tr>\n",
       "    <tr>\n",
       "      <th>3</th>\n",
       "      <td>01d07cee-3af6-85cf-b8f7-c034f0aa47e0</td>\n",
       "      <td>F</td>\n",
       "      <td>inpatient</td>\n",
       "      <td>UMASS MEMORIAL MEDICAL CENTER INC</td>\n",
       "      <td>53</td>\n",
       "      <td>43</td>\n",
       "      <td>0.0</td>\n",
       "      <td>2.0</td>\n",
       "      <td>2.0</td>\n",
       "      <td>16</td>\n",
       "      <td>0.0</td>\n",
       "      <td>12</td>\n",
       "      <td>2</td>\n",
       "      <td>0</td>\n",
       "    </tr>\n",
       "    <tr>\n",
       "      <th>4</th>\n",
       "      <td>0219cef3-0fa6-2b6c-1e07-a22c2baf3657</td>\n",
       "      <td>M</td>\n",
       "      <td>inpatient</td>\n",
       "      <td>EMERSON HOSPITAL -</td>\n",
       "      <td>59</td>\n",
       "      <td>25</td>\n",
       "      <td>0.0</td>\n",
       "      <td>0.0</td>\n",
       "      <td>2.0</td>\n",
       "      <td>9</td>\n",
       "      <td>0.0</td>\n",
       "      <td>9</td>\n",
       "      <td>3</td>\n",
       "      <td>0</td>\n",
       "    </tr>\n",
       "  </tbody>\n",
       "</table>\n",
       "</div>\n",
       "      <button class=\"colab-df-convert\" onclick=\"convertToInteractive('df-120853b5-6b3b-4334-bb0a-bd4eb7bfe579')\"\n",
       "              title=\"Convert this dataframe to an interactive table.\"\n",
       "              style=\"display:none;\">\n",
       "        \n",
       "  <svg xmlns=\"http://www.w3.org/2000/svg\" height=\"24px\"viewBox=\"0 0 24 24\"\n",
       "       width=\"24px\">\n",
       "    <path d=\"M0 0h24v24H0V0z\" fill=\"none\"/>\n",
       "    <path d=\"M18.56 5.44l.94 2.06.94-2.06 2.06-.94-2.06-.94-.94-2.06-.94 2.06-2.06.94zm-11 1L8.5 8.5l.94-2.06 2.06-.94-2.06-.94L8.5 2.5l-.94 2.06-2.06.94zm10 10l.94 2.06.94-2.06 2.06-.94-2.06-.94-.94-2.06-.94 2.06-2.06.94z\"/><path d=\"M17.41 7.96l-1.37-1.37c-.4-.4-.92-.59-1.43-.59-.52 0-1.04.2-1.43.59L10.3 9.45l-7.72 7.72c-.78.78-.78 2.05 0 2.83L4 21.41c.39.39.9.59 1.41.59.51 0 1.02-.2 1.41-.59l7.78-7.78 2.81-2.81c.8-.78.8-2.07 0-2.86zM5.41 20L4 18.59l7.72-7.72 1.47 1.35L5.41 20z\"/>\n",
       "  </svg>\n",
       "      </button>\n",
       "      \n",
       "  <style>\n",
       "    .colab-df-container {\n",
       "      display:flex;\n",
       "      flex-wrap:wrap;\n",
       "      gap: 12px;\n",
       "    }\n",
       "\n",
       "    .colab-df-convert {\n",
       "      background-color: #E8F0FE;\n",
       "      border: none;\n",
       "      border-radius: 50%;\n",
       "      cursor: pointer;\n",
       "      display: none;\n",
       "      fill: #1967D2;\n",
       "      height: 32px;\n",
       "      padding: 0 0 0 0;\n",
       "      width: 32px;\n",
       "    }\n",
       "\n",
       "    .colab-df-convert:hover {\n",
       "      background-color: #E2EBFA;\n",
       "      box-shadow: 0px 1px 2px rgba(60, 64, 67, 0.3), 0px 1px 3px 1px rgba(60, 64, 67, 0.15);\n",
       "      fill: #174EA6;\n",
       "    }\n",
       "\n",
       "    [theme=dark] .colab-df-convert {\n",
       "      background-color: #3B4455;\n",
       "      fill: #D2E3FC;\n",
       "    }\n",
       "\n",
       "    [theme=dark] .colab-df-convert:hover {\n",
       "      background-color: #434B5C;\n",
       "      box-shadow: 0px 1px 3px 1px rgba(0, 0, 0, 0.15);\n",
       "      filter: drop-shadow(0px 1px 2px rgba(0, 0, 0, 0.3));\n",
       "      fill: #FFFFFF;\n",
       "    }\n",
       "  </style>\n",
       "\n",
       "      <script>\n",
       "        const buttonEl =\n",
       "          document.querySelector('#df-120853b5-6b3b-4334-bb0a-bd4eb7bfe579 button.colab-df-convert');\n",
       "        buttonEl.style.display =\n",
       "          google.colab.kernel.accessAllowed ? 'block' : 'none';\n",
       "\n",
       "        async function convertToInteractive(key) {\n",
       "          const element = document.querySelector('#df-120853b5-6b3b-4334-bb0a-bd4eb7bfe579');\n",
       "          const dataTable =\n",
       "            await google.colab.kernel.invokeFunction('convertToInteractive',\n",
       "                                                     [key], {});\n",
       "          if (!dataTable) return;\n",
       "\n",
       "          const docLinkHtml = 'Like what you see? Visit the ' +\n",
       "            '<a target=\"_blank\" href=https://colab.research.google.com/notebooks/data_table.ipynb>data table notebook</a>'\n",
       "            + ' to learn more about interactive tables.';\n",
       "          element.innerHTML = '';\n",
       "          dataTable['output_type'] = 'display_data';\n",
       "          await google.colab.output.renderOutput(dataTable, element);\n",
       "          const docLink = document.createElement('div');\n",
       "          docLink.innerHTML = docLinkHtml;\n",
       "          element.appendChild(docLink);\n",
       "        }\n",
       "      </script>\n",
       "    </div>\n",
       "  </div>\n",
       "  "
      ],
      "text/plain": [
       "                                patient gender encounterclass  \\\n",
       "0  00db4c05-092a-e93b-089b-0f20b26b92aa      F      inpatient   \n",
       "1  0130fb9c-6e6d-0f0c-f4e3-711ecc2f240b      M      inpatient   \n",
       "2  0133d3a1-00dd-5984-f366-be7626117a45      M      inpatient   \n",
       "3  01d07cee-3af6-85cf-b8f7-c034f0aa47e0      F      inpatient   \n",
       "4  0219cef3-0fa6-2b6c-1e07-a22c2baf3657      M      inpatient   \n",
       "\n",
       "                                  organization  age  cnt_encounters  cts  \\\n",
       "0                      ATHOL MEMORIAL HOSPITAL   69              51  0.0   \n",
       "1                    LAWRENCE GENERAL HOSPITAL   65              26  0.0   \n",
       "2  LAHEY HOSPITAL & MEDICAL CENTER  BURLINGTON   32              11  0.0   \n",
       "3            UMASS MEMORIAL MEDICAL CENTER INC   53              43  0.0   \n",
       "4                           EMERSON HOSPITAL -   59              25  0.0   \n",
       "\n",
       "   contraceptive  anticoagulant  cnt_medications  cnt_procedures  \\\n",
       "0            0.0            2.0               10             0.0   \n",
       "1            0.0            2.0               10             0.0   \n",
       "2            0.0            2.0                5             0.0   \n",
       "3            2.0            2.0               16             0.0   \n",
       "4            0.0            2.0                9             0.0   \n",
       "\n",
       "   last_encounter_dur  condition_dur  target  \n",
       "0                   9              6       0  \n",
       "1                  12              0       0  \n",
       "2                  10              0       0  \n",
       "3                  12              2       0  \n",
       "4                   9              3       0  "
      ]
     },
     "execution_count": 30,
     "metadata": {},
     "output_type": "execute_result"
    }
   ],
   "source": [
    "def create_target(last_encounter, deathdate):\n",
    "  died = 0\n",
    "  if ((deathdate.year - last_encounter.year- ((deathdate.month, deathdate.day) < (last_encounter.month, last_encounter.day))) <= 5):\n",
    "    died = 1\n",
    "  else:\n",
    "    died = 0\n",
    "\n",
    "  return died  \n",
    "\n",
    "df_train['target'] = df_train.apply(lambda x: create_target(x['start_encounters'], x['deathdate']), axis=1)\n",
    "df_test['target'] = df_test.apply(lambda x: create_target(x['start_encounters'], x['deathdate']), axis=1)\n",
    "\n",
    "df_train.drop(['encounter', 'start_encounters', 'stop_encounters', 'start_conditions', 'stop_conditions', 'description_conditions', 'deathdate', 'birthdate', 'code_conditions'], axis=1, inplace=True)\n",
    "df_test.drop(['encounter', 'start_encounters', 'stop_encounters', 'start_conditions', 'stop_conditions', 'description_conditions', 'deathdate', 'birthdate', 'code_conditions'], axis=1, inplace=True)\n",
    "\n",
    "df_train.head()"
   ]
  },
  {
   "cell_type": "markdown",
   "metadata": {
    "id": "pWvruQl75AUk"
   },
   "source": [
    "Checking again for NaN as we created other columns "
   ]
  },
  {
   "cell_type": "code",
   "execution_count": null,
   "metadata": {
    "colab": {
     "base_uri": "https://localhost:8080/"
    },
    "id": "wzIkAb6yCEW4",
    "outputId": "897965f7-34e3-42c0-abd5-39fabb20d565"
   },
   "outputs": [
    {
     "name": "stdout",
     "output_type": "stream",
     "text": [
      "NaN count for main dataframe columns:\n",
      "\n",
      "Count of NaNs in the column patient                   : 0\n",
      "Count of NaNs in the column gender                    : 0\n",
      "Count of NaNs in the column encounterclass            : 0\n",
      "Count of NaNs in the column organization              : 0\n",
      "Count of NaNs in the column age                       : 0\n",
      "Count of NaNs in the column cnt_encounters            : 0\n",
      "Count of NaNs in the column cts                       : 0\n",
      "Count of NaNs in the column contraceptive             : 0\n",
      "Count of NaNs in the column anticoagulant             : 0\n",
      "Count of NaNs in the column cnt_medications           : 0\n",
      "Count of NaNs in the column cnt_procedures            : 0\n",
      "Count of NaNs in the column last_encounter_dur        : 0\n",
      "Count of NaNs in the column condition_dur             : 0\n",
      "Count of NaNs in the column target                    : 0\n"
     ]
    }
   ],
   "source": [
    "print(\"NaN count for main dataframe columns:\\n\")\n",
    "for column in df_train.columns:\n",
    "  print(f'Count of NaNs in the column {column:<25} : {df_train[column].isnull().sum()}')"
   ]
  },
  {
   "cell_type": "code",
   "execution_count": null,
   "metadata": {
    "colab": {
     "base_uri": "https://localhost:8080/"
    },
    "id": "F31RG2MLCI-h",
    "outputId": "35998d82-9490-4f15-abb9-008c252f216d"
   },
   "outputs": [
    {
     "name": "stdout",
     "output_type": "stream",
     "text": [
      "NaN count for main dataframe columns:\n",
      "\n",
      "Count of NaNs in the column patient                   : 0\n",
      "Count of NaNs in the column gender                    : 0\n",
      "Count of NaNs in the column encounterclass            : 0\n",
      "Count of NaNs in the column organization              : 0\n",
      "Count of NaNs in the column age                       : 0\n",
      "Count of NaNs in the column cnt_encounters            : 0\n",
      "Count of NaNs in the column cts                       : 0\n",
      "Count of NaNs in the column contraceptive             : 0\n",
      "Count of NaNs in the column anticoagulant             : 0\n",
      "Count of NaNs in the column cnt_medications           : 0\n",
      "Count of NaNs in the column cnt_procedures            : 0\n",
      "Count of NaNs in the column last_encounter_dur        : 0\n",
      "Count of NaNs in the column condition_dur             : 0\n",
      "Count of NaNs in the column target                    : 0\n"
     ]
    }
   ],
   "source": [
    "print(\"NaN count for main dataframe columns:\\n\")\n",
    "for column in df_test.columns:\n",
    "  print(f'Count of NaNs in the column {column:<25} : {df_test[column].isnull().sum()}')"
   ]
  },
  {
   "cell_type": "markdown",
   "metadata": {
    "id": "6ukSmYN15LIa"
   },
   "source": [
    "Here we are doing a memory optimization, so we are converting floats to int16, because our numerical features are all integers."
   ]
  },
  {
   "cell_type": "code",
   "execution_count": null,
   "metadata": {
    "colab": {
     "base_uri": "https://localhost:8080/"
    },
    "id": "Zo_u6jpICdmQ",
    "outputId": "d4151958-ab84-401f-88dc-74953a374037"
   },
   "outputs": [
    {
     "data": {
      "text/plain": [
       "patient                object\n",
       "gender                 object\n",
       "encounterclass         object\n",
       "organization           object\n",
       "age                     int64\n",
       "cnt_encounters          int64\n",
       "cts                   float64\n",
       "contraceptive         float64\n",
       "anticoagulant         float64\n",
       "cnt_medications         int64\n",
       "cnt_procedures        float64\n",
       "last_encounter_dur      int64\n",
       "condition_dur           int64\n",
       "target                  int64\n",
       "dtype: object"
      ]
     },
     "execution_count": 33,
     "metadata": {},
     "output_type": "execute_result"
    }
   ],
   "source": [
    "df_train.dtypes"
   ]
  },
  {
   "cell_type": "code",
   "execution_count": null,
   "metadata": {
    "colab": {
     "base_uri": "https://localhost:8080/"
    },
    "id": "1Lk9bEM4Edaf",
    "outputId": "edf79e85-1e57-41ce-e6ff-fc2778c11ba5"
   },
   "outputs": [
    {
     "name": "stdout",
     "output_type": "stream",
     "text": [
      "Memory usage of dataframe is 0.07 MB\n",
      "Memory usage after optimization is: 0.04 MB\n",
      "Decreased by 50.0%\n"
     ]
    },
    {
     "data": {
      "text/plain": [
       "patient               object\n",
       "gender                object\n",
       "encounterclass        object\n",
       "organization          object\n",
       "age                    int16\n",
       "cnt_encounters         int16\n",
       "cts                    int16\n",
       "contraceptive          int16\n",
       "anticoagulant          int16\n",
       "cnt_medications        int16\n",
       "cnt_procedures         int16\n",
       "last_encounter_dur     int16\n",
       "condition_dur          int16\n",
       "target                 int16\n",
       "dtype: object"
      ]
     },
     "execution_count": 34,
     "metadata": {},
     "output_type": "execute_result"
    }
   ],
   "source": [
    "start_mem = df_train.memory_usage().sum() / 1024**2 \n",
    "print('Memory usage of dataframe is {:.2f} MB'.format(start_mem))\n",
    "cols = ['age', 'cnt_encounters', 'cts', 'contraceptive', 'anticoagulant', 'cnt_medications', 'cnt_procedures', 'last_encounter_dur', 'condition_dur', 'target']\n",
    "for col in cols:\n",
    "  df_train[col] = df_train[col].astype('int16')\n",
    "  df_test[col] = df_test[col].astype('int16')\n",
    "\n",
    "end_mem = df_train.memory_usage().sum() / 1024**2\n",
    "print('Memory usage after optimization is: {:.2f} MB'.format(end_mem))\n",
    "print('Decreased by {:.1f}%'.format(100 * (start_mem - end_mem) / start_mem))\n",
    "df_train.dtypes"
   ]
  },
  {
   "cell_type": "markdown",
   "metadata": {
    "id": "SwlQ4taNUsNO"
   },
   "source": [
    "Here we save our input dataframes o we can use for exploratory data analysis and for the machine learning models"
   ]
  },
  {
   "cell_type": "code",
   "execution_count": null,
   "metadata": {
    "id": "kjDwRnI-JnIZ"
   },
   "outputs": [],
   "source": [
    "df_train.to_csv('/content/drive/MyDrive/Ciencia_de_dados_em_Saude/P2 - Prognostico/scenario04.csv', index=False)\n",
    "df_test.to_csv('/content/drive/MyDrive/Ciencia_de_dados_em_Saude/P2 - Prognostico/scenario03.csv', index=False)"
   ]
  }
 ],
 "metadata": {
  "colab": {
   "collapsed_sections": [],
   "name": "Pre_processing.ipynb",
   "provenance": []
  },
  "kernelspec": {
   "display_name": "Python 3 (ipykernel)",
   "language": "python",
   "name": "python3"
  },
  "language_info": {
   "codemirror_mode": {
    "name": "ipython",
    "version": 3
   },
   "file_extension": ".py",
   "mimetype": "text/x-python",
   "name": "python",
   "nbconvert_exporter": "python",
   "pygments_lexer": "ipython3",
   "version": "3.9.12"
  }
 },
 "nbformat": 4,
 "nbformat_minor": 1
}
