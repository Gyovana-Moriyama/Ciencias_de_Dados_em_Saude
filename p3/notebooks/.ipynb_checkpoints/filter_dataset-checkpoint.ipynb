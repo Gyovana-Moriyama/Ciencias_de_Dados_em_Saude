{
 "cells": [
  {
   "cell_type": "code",
   "execution_count": 1,
   "metadata": {
    "id": "JgomIwJUpOhR"
   },
   "outputs": [],
   "source": [
    "import numpy as np\n",
    "import pandas as pd"
   ]
  },
  {
   "cell_type": "code",
   "execution_count": 3,
   "metadata": {
    "colab": {
     "base_uri": "https://localhost:8080/",
     "height": 424
    },
    "id": "YxM9_4CopRvv",
    "outputId": "1b2f998e-29aa-4fe0-ed5f-ac59536acc15"
   },
   "outputs": [
    {
     "data": {
      "text/html": [
       "<div>\n",
       "<style scoped>\n",
       "    .dataframe tbody tr th:only-of-type {\n",
       "        vertical-align: middle;\n",
       "    }\n",
       "\n",
       "    .dataframe tbody tr th {\n",
       "        vertical-align: top;\n",
       "    }\n",
       "\n",
       "    .dataframe thead th {\n",
       "        text-align: right;\n",
       "    }\n",
       "</style>\n",
       "<table border=\"1\" class=\"dataframe\">\n",
       "  <thead>\n",
       "    <tr style=\"text-align: right;\">\n",
       "      <th></th>\n",
       "      <th>0</th>\n",
       "      <th>1</th>\n",
       "      <th>2</th>\n",
       "    </tr>\n",
       "  </thead>\n",
       "  <tbody>\n",
       "    <tr>\n",
       "      <th>0</th>\n",
       "      <td>LDLR</td>\n",
       "      <td>pp</td>\n",
       "      <td>DAB1</td>\n",
       "    </tr>\n",
       "    <tr>\n",
       "      <th>1</th>\n",
       "      <td>LDLR</td>\n",
       "      <td>pp</td>\n",
       "      <td>HSPA5</td>\n",
       "    </tr>\n",
       "    <tr>\n",
       "      <th>2</th>\n",
       "      <td>LDLR</td>\n",
       "      <td>pp</td>\n",
       "      <td>LDLR</td>\n",
       "    </tr>\n",
       "    <tr>\n",
       "      <th>3</th>\n",
       "      <td>LDLR</td>\n",
       "      <td>pp</td>\n",
       "      <td>LRPAP1</td>\n",
       "    </tr>\n",
       "    <tr>\n",
       "      <th>4</th>\n",
       "      <td>LDLR</td>\n",
       "      <td>pp</td>\n",
       "      <td>APOE</td>\n",
       "    </tr>\n",
       "    <tr>\n",
       "      <th>...</th>\n",
       "      <td>...</td>\n",
       "      <td>...</td>\n",
       "      <td>...</td>\n",
       "    </tr>\n",
       "    <tr>\n",
       "      <th>84771</th>\n",
       "      <td>EPN1</td>\n",
       "      <td>pp</td>\n",
       "      <td>AP2M1</td>\n",
       "    </tr>\n",
       "    <tr>\n",
       "      <th>84772</th>\n",
       "      <td>EPN1</td>\n",
       "      <td>pp</td>\n",
       "      <td>GSK3B</td>\n",
       "    </tr>\n",
       "    <tr>\n",
       "      <th>84773</th>\n",
       "      <td>EPN1</td>\n",
       "      <td>pp</td>\n",
       "      <td>MED31</td>\n",
       "    </tr>\n",
       "    <tr>\n",
       "      <th>84774</th>\n",
       "      <td>EPN1</td>\n",
       "      <td>pp</td>\n",
       "      <td>GTF3A</td>\n",
       "    </tr>\n",
       "    <tr>\n",
       "      <th>84775</th>\n",
       "      <td>GSK3B</td>\n",
       "      <td>pp</td>\n",
       "      <td>GRLF1</td>\n",
       "    </tr>\n",
       "  </tbody>\n",
       "</table>\n",
       "<p>84776 rows × 3 columns</p>\n",
       "</div>"
      ],
      "text/plain": [
       "            0   1       2\n",
       "0        LDLR  pp    DAB1\n",
       "1        LDLR  pp   HSPA5\n",
       "2        LDLR  pp    LDLR\n",
       "3        LDLR  pp  LRPAP1\n",
       "4        LDLR  pp    APOE\n",
       "...       ...  ..     ...\n",
       "84771    EPN1  pp   AP2M1\n",
       "84772    EPN1  pp   GSK3B\n",
       "84773    EPN1  pp   MED31\n",
       "84774    EPN1  pp   GTF3A\n",
       "84775  GSK3B   pp   GRLF1\n",
       "\n",
       "[84776 rows x 3 columns]"
      ]
     },
     "execution_count": 3,
     "metadata": {},
     "output_type": "execute_result"
    }
   ],
   "source": [
    "path = '../data/external/btp517_Supplementary_Data/'\n",
    "df = pd.read_csv(path + 'bioinf-2009-0193-File021.sif', sep='\\t', header=None)\n",
    "df"
   ]
  },
  {
   "cell_type": "code",
   "execution_count": 5,
   "metadata": {},
   "outputs": [
    {
     "name": "stdout",
     "output_type": "stream",
     "text": [
      "Collecting xlrd\n",
      "  Downloading xlrd-2.0.1-py2.py3-none-any.whl (96 kB)\n",
      "Installing collected packages: xlrd\n",
      "Successfully installed xlrd-2.0.1\n"
     ]
    }
   ],
   "source": [
    "!pip install xlrd"
   ]
  },
  {
   "cell_type": "code",
   "execution_count": 6,
   "metadata": {
    "colab": {
     "base_uri": "https://localhost:8080/",
     "height": 424
    },
    "id": "3aTJG1s8pwd6",
    "outputId": "d78b34ff-6bc9-40dc-affd-28ff0a9278e7"
   },
   "outputs": [
    {
     "data": {
      "text/html": [
       "<div>\n",
       "<style scoped>\n",
       "    .dataframe tbody tr th:only-of-type {\n",
       "        vertical-align: middle;\n",
       "    }\n",
       "\n",
       "    .dataframe tbody tr th {\n",
       "        vertical-align: top;\n",
       "    }\n",
       "\n",
       "    .dataframe thead th {\n",
       "        text-align: right;\n",
       "    }\n",
       "</style>\n",
       "<table border=\"1\" class=\"dataframe\">\n",
       "  <thead>\n",
       "    <tr style=\"text-align: right;\">\n",
       "      <th></th>\n",
       "      <th>name</th>\n",
       "    </tr>\n",
       "  </thead>\n",
       "  <tbody>\n",
       "    <tr>\n",
       "      <th>0</th>\n",
       "      <td>AAK1</td>\n",
       "    </tr>\n",
       "    <tr>\n",
       "      <th>1</th>\n",
       "      <td>AATK</td>\n",
       "    </tr>\n",
       "    <tr>\n",
       "      <th>2</th>\n",
       "      <td>ABL1</td>\n",
       "    </tr>\n",
       "    <tr>\n",
       "      <th>3</th>\n",
       "      <td>ABL2</td>\n",
       "    </tr>\n",
       "    <tr>\n",
       "      <th>4</th>\n",
       "      <td>ACP1</td>\n",
       "    </tr>\n",
       "    <tr>\n",
       "      <th>...</th>\n",
       "      <td>...</td>\n",
       "    </tr>\n",
       "    <tr>\n",
       "      <th>544</th>\n",
       "      <td>WNK2</td>\n",
       "    </tr>\n",
       "    <tr>\n",
       "      <th>545</th>\n",
       "      <td>WNK4</td>\n",
       "    </tr>\n",
       "    <tr>\n",
       "      <th>546</th>\n",
       "      <td>YES1</td>\n",
       "    </tr>\n",
       "    <tr>\n",
       "      <th>547</th>\n",
       "      <td>ZAK</td>\n",
       "    </tr>\n",
       "    <tr>\n",
       "      <th>548</th>\n",
       "      <td>ZAP70</td>\n",
       "    </tr>\n",
       "  </tbody>\n",
       "</table>\n",
       "<p>549 rows × 1 columns</p>\n",
       "</div>"
      ],
      "text/plain": [
       "      name\n",
       "0     AAK1\n",
       "1     AATK\n",
       "2     ABL1\n",
       "3     ABL2\n",
       "4     ACP1\n",
       "..     ...\n",
       "544   WNK2\n",
       "545   WNK4\n",
       "546   YES1\n",
       "547    ZAK\n",
       "548  ZAP70\n",
       "\n",
       "[549 rows x 1 columns]"
      ]
     },
     "execution_count": 6,
     "metadata": {},
     "output_type": "execute_result"
    }
   ],
   "source": [
    "reg = pd.read_excel(path+'bioinf-2009-0193-File013.xls', sheet_name=None, names=['name', 'type1', 'type2'])\n",
    "df_reg = pd.DataFrame(reg['Foglio1'])\n",
    "df_reg.drop(['type1', 'type2'], axis=1, inplace=True)\n",
    "df_reg"
   ]
  },
  {
   "cell_type": "code",
   "execution_count": 7,
   "metadata": {
    "colab": {
     "base_uri": "https://localhost:8080/"
    },
    "id": "wDGtws5et12H",
    "outputId": "c9c6a878-0e37-45c8-bbb0-80c31582cb97"
   },
   "outputs": [
    {
     "data": {
      "text/plain": [
       "169552"
      ]
     },
     "execution_count": 7,
     "metadata": {},
     "output_type": "execute_result"
    }
   ],
   "source": [
    "len(df[0]) + len(df[2])"
   ]
  },
  {
   "cell_type": "code",
   "execution_count": 8,
   "metadata": {
    "colab": {
     "base_uri": "https://localhost:8080/"
    },
    "id": "GeLfRWL7uL11",
    "outputId": "12532595-e1e8-4550-b794-196deb6c5b53"
   },
   "outputs": [
    {
     "data": {
      "text/plain": [
       "18800"
      ]
     },
     "execution_count": 8,
     "metadata": {},
     "output_type": "execute_result"
    }
   ],
   "source": [
    "len(df[0].unique()) + len(df[2].unique()) "
   ]
  },
  {
   "cell_type": "code",
   "execution_count": 9,
   "metadata": {
    "id": "5kYjJv4dq0h3"
   },
   "outputs": [],
   "source": [
    "names = df_reg['name'].values"
   ]
  },
  {
   "cell_type": "code",
   "execution_count": 10,
   "metadata": {
    "colab": {
     "base_uri": "https://localhost:8080/",
     "height": 424
    },
    "id": "i5EQ9C6NrcM9",
    "outputId": "a170ad37-9eb2-412d-de9d-9ae7c876f309"
   },
   "outputs": [
    {
     "data": {
      "text/html": [
       "<div>\n",
       "<style scoped>\n",
       "    .dataframe tbody tr th:only-of-type {\n",
       "        vertical-align: middle;\n",
       "    }\n",
       "\n",
       "    .dataframe tbody tr th {\n",
       "        vertical-align: top;\n",
       "    }\n",
       "\n",
       "    .dataframe thead th {\n",
       "        text-align: right;\n",
       "    }\n",
       "</style>\n",
       "<table border=\"1\" class=\"dataframe\">\n",
       "  <thead>\n",
       "    <tr style=\"text-align: right;\">\n",
       "      <th></th>\n",
       "      <th>0</th>\n",
       "      <th>1</th>\n",
       "      <th>2</th>\n",
       "    </tr>\n",
       "  </thead>\n",
       "  <tbody>\n",
       "    <tr>\n",
       "      <th>45</th>\n",
       "      <td>IKBKB</td>\n",
       "      <td>pp</td>\n",
       "      <td>MAP3K11</td>\n",
       "    </tr>\n",
       "    <tr>\n",
       "      <th>46</th>\n",
       "      <td>IKBKB</td>\n",
       "      <td>pp</td>\n",
       "      <td>PRKCQ</td>\n",
       "    </tr>\n",
       "    <tr>\n",
       "      <th>47</th>\n",
       "      <td>IKBKB</td>\n",
       "      <td>pp</td>\n",
       "      <td>MAP4K4</td>\n",
       "    </tr>\n",
       "    <tr>\n",
       "      <th>56</th>\n",
       "      <td>IKBKB</td>\n",
       "      <td>pp</td>\n",
       "      <td>CHUK</td>\n",
       "    </tr>\n",
       "    <tr>\n",
       "      <th>58</th>\n",
       "      <td>IKBKB</td>\n",
       "      <td>pp</td>\n",
       "      <td>EIF2AK2</td>\n",
       "    </tr>\n",
       "    <tr>\n",
       "      <th>...</th>\n",
       "      <td>...</td>\n",
       "      <td>...</td>\n",
       "      <td>...</td>\n",
       "    </tr>\n",
       "    <tr>\n",
       "      <th>84739</th>\n",
       "      <td>TGFBR1</td>\n",
       "      <td>pp</td>\n",
       "      <td>MKNK2</td>\n",
       "    </tr>\n",
       "    <tr>\n",
       "      <th>84740</th>\n",
       "      <td>TGFBR1</td>\n",
       "      <td>pp</td>\n",
       "      <td>CDKL1</td>\n",
       "    </tr>\n",
       "    <tr>\n",
       "      <th>84747</th>\n",
       "      <td>TGFBR1</td>\n",
       "      <td>pp</td>\n",
       "      <td>BCR</td>\n",
       "    </tr>\n",
       "    <tr>\n",
       "      <th>84752</th>\n",
       "      <td>TGFBR1</td>\n",
       "      <td>pp</td>\n",
       "      <td>TSSK1B</td>\n",
       "    </tr>\n",
       "    <tr>\n",
       "      <th>84753</th>\n",
       "      <td>TGFBR1</td>\n",
       "      <td>pp</td>\n",
       "      <td>TSSK4</td>\n",
       "    </tr>\n",
       "  </tbody>\n",
       "</table>\n",
       "<p>3777 rows × 3 columns</p>\n",
       "</div>"
      ],
      "text/plain": [
       "            0   1        2\n",
       "45      IKBKB  pp  MAP3K11\n",
       "46      IKBKB  pp    PRKCQ\n",
       "47      IKBKB  pp   MAP4K4\n",
       "56      IKBKB  pp     CHUK\n",
       "58      IKBKB  pp  EIF2AK2\n",
       "...       ...  ..      ...\n",
       "84739  TGFBR1  pp    MKNK2\n",
       "84740  TGFBR1  pp    CDKL1\n",
       "84747  TGFBR1  pp      BCR\n",
       "84752  TGFBR1  pp   TSSK1B\n",
       "84753  TGFBR1  pp    TSSK4\n",
       "\n",
       "[3777 rows x 3 columns]"
      ]
     },
     "execution_count": 10,
     "metadata": {},
     "output_type": "execute_result"
    }
   ],
   "source": [
    "df1 = df.loc[(df[0].isin(names)) & (df[2].isin(names))]\n",
    "df1"
   ]
  },
  {
   "cell_type": "code",
   "execution_count": 11,
   "metadata": {
    "colab": {
     "base_uri": "https://localhost:8080/"
    },
    "id": "qkyac_j5sLA6",
    "outputId": "5bfb99fc-1ecb-48c1-e9bb-75ba45f99240"
   },
   "outputs": [
    {
     "data": {
      "text/plain": [
       "486"
      ]
     },
     "execution_count": 11,
     "metadata": {},
     "output_type": "execute_result"
    }
   ],
   "source": [
    "len(df1[0].unique())"
   ]
  },
  {
   "cell_type": "code",
   "execution_count": 12,
   "metadata": {
    "colab": {
     "base_uri": "https://localhost:8080/"
    },
    "id": "OVocWpQHs9Fp",
    "outputId": "5eed8964-704b-4b1c-e9fd-35ab87b8168b"
   },
   "outputs": [
    {
     "data": {
      "text/plain": [
       "485"
      ]
     },
     "execution_count": 12,
     "metadata": {},
     "output_type": "execute_result"
    }
   ],
   "source": [
    "len(df1[2].unique())\n"
   ]
  },
  {
   "cell_type": "code",
   "execution_count": null,
   "metadata": {
    "id": "01i4fhzYs_yh"
   },
   "outputs": [],
   "source": [
    "df1.to_csv('./data/processed/filtered_df.csv', index=False)"
   ]
  }
 ],
 "metadata": {
  "colab": {
   "name": "filter_dataset.ipynb",
   "provenance": []
  },
  "kernelspec": {
   "display_name": "Python 3 (ipykernel)",
   "language": "python",
   "name": "python3"
  },
  "language_info": {
   "codemirror_mode": {
    "name": "ipython",
    "version": 3
   },
   "file_extension": ".py",
   "mimetype": "text/x-python",
   "name": "python",
   "nbconvert_exporter": "python",
   "pygments_lexer": "ipython3",
   "version": "3.9.12"
  }
 },
 "nbformat": 4,
 "nbformat_minor": 1
}
